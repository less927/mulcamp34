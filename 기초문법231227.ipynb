{
  "nbformat": 4,
  "nbformat_minor": 0,
  "metadata": {
    "colab": {
      "provenance": [],
      "toc_visible": true,
      "authorship_tag": "ABX9TyN5Im0ub2vTOQHrrl0AdYEk",
      "include_colab_link": true
    },
    "kernelspec": {
      "name": "python3",
      "display_name": "Python 3"
    },
    "language_info": {
      "name": "python"
    }
  },
  "cells": [
    {
      "cell_type": "markdown",
      "metadata": {
        "id": "view-in-github",
        "colab_type": "text"
      },
      "source": [
        "<a href=\"https://colab.research.google.com/github/less927/mulcamp34/blob/main/%EA%B8%B0%EC%B4%88%EB%AC%B8%EB%B2%95231227.ipynb\" target=\"_parent\"><img src=\"https://colab.research.google.com/assets/colab-badge.svg\" alt=\"Open In Colab\"/></a>"
      ]
    },
    {
      "cell_type": "markdown",
      "source": [
        "# Chapter 3. 파이썬을 계산기처럼\n",
        "## 사칙연산\n"
      ],
      "metadata": {
        "id": "0twGlaPOoEml"
      }
    },
    {
      "cell_type": "code",
      "source": [
        "1+1"
      ],
      "metadata": {
        "colab": {
          "base_uri": "https://localhost:8080/"
        },
        "id": "9Znfn0vXrVEo",
        "outputId": "01992c53-37d9-402a-ceaf-7ad9f9a50c8c"
      },
      "execution_count": 5,
      "outputs": [
        {
          "output_type": "execute_result",
          "data": {
            "text/plain": [
              "3"
            ]
          },
          "metadata": {},
          "execution_count": 5
        }
      ]
    },
    {
      "cell_type": "code",
      "source": [
        "5-2"
      ],
      "metadata": {
        "colab": {
          "base_uri": "https://localhost:8080/"
        },
        "id": "UfzAeksqrgVp",
        "outputId": "6e595054-3e52-45f6-9add-208c79cebcdb"
      },
      "execution_count": 7,
      "outputs": [
        {
          "output_type": "execute_result",
          "data": {
            "text/plain": [
              "3"
            ]
          },
          "metadata": {},
          "execution_count": 7
        }
      ]
    },
    {
      "cell_type": "code",
      "source": [
        "15*2"
      ],
      "metadata": {
        "colab": {
          "base_uri": "https://localhost:8080/"
        },
        "id": "a2Q2HWK4riSh",
        "outputId": "0622ab43-f8ca-405b-9296-bcffd040c04d"
      },
      "execution_count": 11,
      "outputs": [
        {
          "output_type": "execute_result",
          "data": {
            "text/plain": [
              "30"
            ]
          },
          "metadata": {},
          "execution_count": 11
        }
      ]
    },
    {
      "cell_type": "code",
      "source": [
        "#나눗셈\n",
        "#python 3.x 실수 2.x 정수\n",
        "10/2  #정수 / 정수 반환값은 실수형"
      ],
      "metadata": {
        "colab": {
          "base_uri": "https://localhost:8080/"
        },
        "id": "4LROFtrZrm4Y",
        "outputId": "edfb21a7-a049-4886-d2d2-4868d9f0086e"
      },
      "execution_count": 16,
      "outputs": [
        {
          "output_type": "execute_result",
          "data": {
            "text/plain": [
              "5.0"
            ]
          },
          "metadata": {},
          "execution_count": 16
        }
      ]
    },
    {
      "cell_type": "code",
      "source": [],
      "metadata": {
        "id": "YdnAmKb2sNY6"
      },
      "execution_count": null,
      "outputs": []
    },
    {
      "cell_type": "markdown",
      "source": [
        "- 실수연산"
      ],
      "metadata": {
        "id": "0s7Sz6issPOw"
      }
    },
    {
      "cell_type": "code",
      "source": [
        "print(1.2 + 5.3)\n",
        "print(5.3 - 2.2)\n",
        "print(2.5*2.5)\n",
        "print(5.5/2.5)"
      ],
      "metadata": {
        "colab": {
          "base_uri": "https://localhost:8080/"
        },
        "id": "1bg-FDoHsRXM",
        "outputId": "c92a444e-2e95-40c5-c8f0-d8095c6ae630"
      },
      "execution_count": 24,
      "outputs": [
        {
          "output_type": "stream",
          "name": "stdout",
          "text": [
            "6.5\n",
            "3.0999999999999996\n",
            "6.25\n",
            "2.2\n"
          ]
        }
      ]
    },
    {
      "cell_type": "code",
      "source": [
        "print(5.3 - 2.2)"
      ],
      "metadata": {
        "colab": {
          "base_uri": "https://localhost:8080/"
        },
        "id": "fSfr9vFcsW6d",
        "outputId": "f59e142e-d5c5-4997-df40-fd7517972e02"
      },
      "execution_count": 22,
      "outputs": [
        {
          "output_type": "execute_result",
          "data": {
            "text/plain": [
              "3.0999999999999996"
            ]
          },
          "metadata": {},
          "execution_count": 22
        }
      ]
    },
    {
      "cell_type": "code",
      "source": [
        "print(2.5*2.5)"
      ],
      "metadata": {
        "colab": {
          "base_uri": "https://localhost:8080/"
        },
        "id": "GptLvozYsddB",
        "outputId": "4a3b953b-1dc2-44f8-edea-bfcfd684df02"
      },
      "execution_count": 20,
      "outputs": [
        {
          "output_type": "execute_result",
          "data": {
            "text/plain": [
              "6.25"
            ]
          },
          "metadata": {},
          "execution_count": 20
        }
      ]
    },
    {
      "cell_type": "code",
      "source": [
        "print(5.5/2.5)"
      ],
      "metadata": {
        "colab": {
          "base_uri": "https://localhost:8080/"
        },
        "id": "Bzwjkzvqsi94",
        "outputId": "c2a9d9cb-4538-41d5-e8a7-60652013b0f8"
      },
      "execution_count": 23,
      "outputs": [
        {
          "output_type": "execute_result",
          "data": {
            "text/plain": [
              "2.2"
            ]
          },
          "metadata": {},
          "execution_count": 23
        }
      ]
    },
    {
      "cell_type": "markdown",
      "source": [
        "###연산규칙\n",
        "- (1)괄호안 계산\n",
        "- (2) 지수계산\n",
        "- (3) 곱셈과 나눗셈\n",
        "- (4) 덧셈과 뺄셈\n",
        "- (5)같은순위 왼쪽 오른쪽\n",
        "- (6)괄호는 안쪽부터\n",
        "\n"
      ],
      "metadata": {
        "id": "NKjQzNF1tZIp"
      }
    },
    {
      "cell_type": "code",
      "source": [
        "print(2 + 3 * 4)"
      ],
      "metadata": {
        "colab": {
          "base_uri": "https://localhost:8080/"
        },
        "id": "RxxPoXXTt3MJ",
        "outputId": "4a9799a9-ba3a-4d26-dce4-52e110f28964"
      },
      "execution_count": 30,
      "outputs": [
        {
          "output_type": "stream",
          "name": "stdout",
          "text": [
            "14\n"
          ]
        }
      ]
    },
    {
      "cell_type": "code",
      "source": [
        "print(3 / 2 * 4 - 5 /2)"
      ],
      "metadata": {
        "colab": {
          "base_uri": "https://localhost:8080/"
        },
        "id": "m4FOG-feuBQU",
        "outputId": "cf71411f-bb9e-46e3-ca4d-e9f1d8fec480"
      },
      "execution_count": 32,
      "outputs": [
        {
          "output_type": "stream",
          "name": "stdout",
          "text": [
            "3.5\n"
          ]
        }
      ]
    },
    {
      "cell_type": "code",
      "source": [
        "print ((5 * 4 - 15) + ((5 - 2) * (9 - 7)))"
      ],
      "metadata": {
        "colab": {
          "base_uri": "https://localhost:8080/"
        },
        "id": "9oR5pwI3uUew",
        "outputId": "a4cd0a28-c254-420a-f93e-e0117a054e34"
      },
      "execution_count": 54,
      "outputs": [
        {
          "output_type": "stream",
          "name": "stdout",
          "text": [
            "11\n"
          ]
        }
      ]
    },
    {
      "cell_type": "code",
      "source": [
        "print(type(3))"
      ],
      "metadata": {
        "colab": {
          "base_uri": "https://localhost:8080/"
        },
        "id": "QA691u6cu1XK",
        "outputId": "467750ff-40be-44ec-89f8-da910c22734f"
      },
      "execution_count": 40,
      "outputs": [
        {
          "output_type": "stream",
          "name": "stdout",
          "text": [
            "<class 'int'>\n"
          ]
        }
      ]
    },
    {
      "cell_type": "code",
      "source": [
        "print(type(3.5))"
      ],
      "metadata": {
        "colab": {
          "base_uri": "https://localhost:8080/"
        },
        "id": "M2qp9plWu_x3",
        "outputId": "c2a2c3c7-c52f-4fe7-f30d-456f71be885a"
      },
      "execution_count": 51,
      "outputs": [
        {
          "output_type": "stream",
          "name": "stdout",
          "text": [
            "<class 'float'>\n"
          ]
        }
      ]
    },
    {
      "cell_type": "code",
      "source": [
        "print(type(~~~))"
      ],
      "metadata": {
        "colab": {
          "base_uri": "https://localhost:8080/",
          "height": 143
        },
        "id": "DCGDGOGPy7d_",
        "outputId": "2cd9634b-be6f-46ed-837a-04fa1a218e8d"
      },
      "execution_count": 58,
      "outputs": [
        {
          "output_type": "error",
          "ename": "SyntaxError",
          "evalue": "ignored",
          "traceback": [
            "\u001b[0;36m  File \u001b[0;32m\"<ipython-input-58-4204741c7bce>\"\u001b[0;36m, line \u001b[0;32m1\u001b[0m\n\u001b[0;31m    print(type(~~~))\u001b[0m\n\u001b[0m                  ^\u001b[0m\n\u001b[0;31mSyntaxError\u001b[0m\u001b[0;31m:\u001b[0m invalid syntax\n"
          ]
        }
      ]
    },
    {
      "cell_type": "markdown",
      "source": [
        "함수의 종류\n",
        "-내장 함수 (built- in) 파이썬 설치와 함께 제공하는 기본적인 함수\n",
        "(print, type)\n",
        "-"
      ],
      "metadata": {
        "id": "_Q-2ZpLxzsvq"
      }
    },
    {
      "cell_type": "markdown",
      "source": [
        "파이썬은 객체지향 언어입니다.\n"
      ],
      "metadata": {
        "id": "iXBQC6-Y1wsy"
      }
    },
    {
      "cell_type": "markdown",
      "source": [
        "##거듭제곱과 나머지\n",
        "- 숫자A 를 N번 곱하지 (Power)\n",
        " +A는 및 N을 지수라고 표현"
      ],
      "metadata": {
        "id": "Rdt6ZBpq2CsC"
      }
    },
    {
      "cell_type": "code",
      "source": [
        "print (2 * 2 * 2 * 2 * 2)"
      ],
      "metadata": {
        "colab": {
          "base_uri": "https://localhost:8080/"
        },
        "id": "laiM8z7N2UOB",
        "outputId": "a068ea78-7401-41d3-83b6-550370b716ba"
      },
      "execution_count": 64,
      "outputs": [
        {
          "output_type": "stream",
          "name": "stdout",
          "text": [
            "32\n"
          ]
        }
      ]
    },
    {
      "cell_type": "code",
      "source": [
        "print (2 ** 5)"
      ],
      "metadata": {
        "colab": {
          "base_uri": "https://localhost:8080/"
        },
        "id": "crULmnOw2dty",
        "outputId": "30a499c2-3ee1-400d-ba62-4b0aff8581b5"
      },
      "execution_count": 63,
      "outputs": [
        {
          "output_type": "stream",
          "name": "stdout",
          "text": [
            "32\n"
          ]
        }
      ]
    },
    {
      "cell_type": "markdown",
      "source": [
        "- 나머지 구하는 방법"
      ],
      "metadata": {
        "id": "dm3WDjuh2pfI"
      }
    },
    {
      "cell_type": "code",
      "source": [
        "13 % 5"
      ],
      "metadata": {
        "colab": {
          "base_uri": "https://localhost:8080/"
        },
        "id": "t_Qk72gW2woZ",
        "outputId": "77867757-1dd6-4545-e815-777da807a498"
      },
      "execution_count": 65,
      "outputs": [
        {
          "output_type": "execute_result",
          "data": {
            "text/plain": [
              "3"
            ]
          },
          "metadata": {},
          "execution_count": 65
        }
      ]
    },
    {
      "cell_type": "code",
      "source": [
        "13 // 5"
      ],
      "metadata": {
        "colab": {
          "base_uri": "https://localhost:8080/"
        },
        "id": "nAf3U2nI2zxY",
        "outputId": "974a59ba-2380-4b49-b2c5-d0d812383949"
      },
      "execution_count": 66,
      "outputs": [
        {
          "output_type": "execute_result",
          "data": {
            "text/plain": [
              "2"
            ]
          },
          "metadata": {},
          "execution_count": 66
        }
      ]
    },
    {
      "cell_type": "markdown",
      "source": [
        "- 교재 표 3-1 (p34) 산술연산자 표 정리"
      ],
      "metadata": {
        "id": "cBp5Ka0p3DTO"
      }
    },
    {
      "cell_type": "markdown",
      "source": [
        "## 과학적 표기법\n",
        "- 아주 큰 수, 작은 수를 다뤄야 하는 케이스\n",
        "- 300,000,000= 3*10**8 , 3e8"
      ],
      "metadata": {
        "id": "cTXEN52t3kiB"
      }
    },
    {
      "cell_type": "code",
      "source": [
        "print (3*10**8)\n",
        "print (3e8)"
      ],
      "metadata": {
        "colab": {
          "base_uri": "https://localhost:8080/"
        },
        "id": "MfJgyACL4eMf",
        "outputId": "819c147d-d9e5-4f53-935e-5c23073aa9bb"
      },
      "execution_count": 73,
      "outputs": [
        {
          "output_type": "stream",
          "name": "stdout",
          "text": [
            "300000000\n",
            "300000000.0\n"
          ]
        }
      ]
    },
    {
      "cell_type": "code",
      "source": [
        "3e-4"
      ],
      "metadata": {
        "colab": {
          "base_uri": "https://localhost:8080/"
        },
        "id": "wBtXkgeU4-W-",
        "outputId": "7bc5fcae-9aa8-497c-da41-dd48ea75fb05"
      },
      "execution_count": 77,
      "outputs": [
        {
          "output_type": "execute_result",
          "data": {
            "text/plain": [
              "0.0003"
            ]
          },
          "metadata": {},
          "execution_count": 77
        }
      ]
    },
    {
      "cell_type": "markdown",
      "source": [
        "## 진수 표현과 변환\n"
      ],
      "metadata": {
        "id": "QNjzX_I55alW"
      }
    },
    {
      "cell_type": "markdown",
      "source": [],
      "metadata": {
        "id": "CkdtopAW6un1"
      }
    },
    {
      "cell_type": "code",
      "source": [
        "0b10001 2진법"
      ],
      "metadata": {
        "colab": {
          "base_uri": "https://localhost:8080/"
        },
        "id": "QhilAvCl6dFl",
        "outputId": "f61a2ec2-36aa-4b17-cf3d-da8f7ac22054"
      },
      "execution_count": 80,
      "outputs": [
        {
          "output_type": "execute_result",
          "data": {
            "text/plain": [
              "17"
            ]
          },
          "metadata": {},
          "execution_count": 80
        }
      ]
    },
    {
      "cell_type": "code",
      "source": [
        "0o21 8 8진법"
      ],
      "metadata": {
        "colab": {
          "base_uri": "https://localhost:8080/"
        },
        "id": "x1SGaBAu6iwo",
        "outputId": "750409da-e6ee-4a60-8fbf-1b2e728d2de5"
      },
      "execution_count": 81,
      "outputs": [
        {
          "output_type": "execute_result",
          "data": {
            "text/plain": [
              "17"
            ]
          },
          "metadata": {},
          "execution_count": 81
        }
      ]
    },
    {
      "cell_type": "code",
      "source": [
        "0x11 16진법"
      ],
      "metadata": {
        "colab": {
          "base_uri": "https://localhost:8080/"
        },
        "id": "f3zTdtve6kEe",
        "outputId": "e9882ac1-978b-469e-8e48-0545bcaabd2e"
      },
      "execution_count": 82,
      "outputs": [
        {
          "output_type": "execute_result",
          "data": {
            "text/plain": [
              "17"
            ]
          },
          "metadata": {},
          "execution_count": 82
        }
      ]
    },
    {
      "cell_type": "markdown",
      "source": [
        "-메소드\n",
        " + bin() 10진수를 2진수로\n",
        " + oct() 10-> 8\n",
        " + hex() 10-> 16\n",
        "\n",
        "## 논리 연산 및 비교 연산\n",
        "- 참 / 거짓\n",
        "-"
      ],
      "metadata": {
        "id": "ZUIci5Af63ql"
      }
    },
    {
      "cell_type": "code",
      "source": [
        "print(True)"
      ],
      "metadata": {
        "colab": {
          "base_uri": "https://localhost:8080/"
        },
        "id": "XpTWKWat783P",
        "outputId": "e63b1a53-cafd-4a30-de77-6d16788b3d45"
      },
      "execution_count": 83,
      "outputs": [
        {
          "output_type": "stream",
          "name": "stdout",
          "text": [
            "True\n"
          ]
        }
      ]
    },
    {
      "cell_type": "code",
      "source": [
        "print(False)"
      ],
      "metadata": {
        "colab": {
          "base_uri": "https://localhost:8080/"
        },
        "id": "BNJ_uwaG8Aqm",
        "outputId": "849117af-d7c2-4b17-8b04-a14e2cb232c1"
      },
      "execution_count": 84,
      "outputs": [
        {
          "output_type": "stream",
          "name": "stdout",
          "text": [
            "False\n"
          ]
        }
      ]
    },
    {
      "cell_type": "code",
      "source": [
        "print(type(True))"
      ],
      "metadata": {
        "colab": {
          "base_uri": "https://localhost:8080/"
        },
        "id": "yj--PjIi8Dlc",
        "outputId": "ce7eaf31-4096-483d-945f-9f3041ea2f11"
      },
      "execution_count": 86,
      "outputs": [
        {
          "output_type": "stream",
          "name": "stdout",
          "text": [
            "<class 'bool'>\n"
          ]
        }
      ]
    },
    {
      "cell_type": "markdown",
      "source": [
        "### 논리 연산자\n",
        "- and : A and B : A 와 B 모두 참일때 참\n",
        "- or : A 와 B 중 하나라도 참이면 참 둥다 거짓일때 거짓\n",
        "- not A 가 참일때 거짓 A 가 거짓이면 참\n"
      ],
      "metadata": {
        "id": "hxGr4flo8U7j"
      }
    },
    {
      "cell_type": "code",
      "source": [
        "print(True and True)\n",
        "print(True and False)\n",
        "print(False and true)\n",
        "print(False and false)"
      ],
      "metadata": {
        "colab": {
          "base_uri": "https://localhost:8080/"
        },
        "id": "MG_I28_nBX7o",
        "outputId": "0a026bc7-e420-4df3-8460-13a51e2a6dae"
      },
      "execution_count": 92,
      "outputs": [
        {
          "output_type": "stream",
          "name": "stdout",
          "text": [
            "True\n",
            "False\n",
            "False\n",
            "False\n"
          ]
        }
      ]
    },
    {
      "cell_type": "code",
      "source": [
        "print(True or True)\n",
        "print(True or False)\n",
        "print(False or True)\n",
        "print(False or False)"
      ],
      "metadata": {
        "colab": {
          "base_uri": "https://localhost:8080/"
        },
        "id": "iPuIcx6U8MPe",
        "outputId": "773d8c9a-cde2-41c2-9bc2-639b097cd51d"
      },
      "execution_count": 95,
      "outputs": [
        {
          "output_type": "stream",
          "name": "stdout",
          "text": [
            "True\n",
            "True\n",
            "True\n",
            "False\n"
          ]
        }
      ]
    },
    {
      "cell_type": "code",
      "source": [
        "not True"
      ],
      "metadata": {
        "colab": {
          "base_uri": "https://localhost:8080/"
        },
        "id": "iwLtkGSxCAbq",
        "outputId": "917de8df-c557-4f90-d8e8-ae7463f24cea"
      },
      "execution_count": 97,
      "outputs": [
        {
          "output_type": "execute_result",
          "data": {
            "text/plain": [
              "False"
            ]
          },
          "metadata": {},
          "execution_count": 97
        }
      ]
    },
    {
      "cell_type": "code",
      "source": [
        "not False"
      ],
      "metadata": {
        "colab": {
          "base_uri": "https://localhost:8080/"
        },
        "id": "3HX1N6lPCGF-",
        "outputId": "81a10a56-3965-4943-dad2-9a2e0213abc8"
      },
      "execution_count": 98,
      "outputs": [
        {
          "output_type": "execute_result",
          "data": {
            "text/plain": [
              "True"
            ]
          },
          "metadata": {},
          "execution_count": 98
        }
      ]
    },
    {
      "cell_type": "markdown",
      "source": [
        "### 비교연산"
      ],
      "metadata": {
        "id": "I-Dsnt_CCewR"
      }
    },
    {
      "cell_type": "code",
      "source": [
        "print(1==2)\n",
        "print(1 != 2)\n",
        "print(1 <= 2)\n",
        "print(1 < 2)\n",
        "print(1 >= 2)\n",
        "print(1 > 2)"
      ],
      "metadata": {
        "colab": {
          "base_uri": "https://localhost:8080/"
        },
        "id": "mFEhIoJ4CiOw",
        "outputId": "5f65d426-13fd-4fd3-ecaf-2b814baf51ea"
      },
      "execution_count": 109,
      "outputs": [
        {
          "output_type": "stream",
          "name": "stdout",
          "text": [
            "False\n",
            "True\n",
            "True\n",
            "True\n",
            "False\n",
            "False\n"
          ]
        }
      ]
    },
    {
      "cell_type": "markdown",
      "source": [
        "비교연산 + 논리연산"
      ],
      "metadata": {
        "id": "P8k8F_U9EDBP"
      }
    },
    {
      "cell_type": "code",
      "source": [
        "1 > 0 and -2 < 0 # 비교연산 (1순위) 논리연산 (2순위)"
      ],
      "metadata": {
        "colab": {
          "base_uri": "https://localhost:8080/"
        },
        "id": "lfFZ2eknEKoE",
        "outputId": "0e236719-1643-4672-b4ce-a4855fac5469"
      },
      "execution_count": 110,
      "outputs": [
        {
          "output_type": "execute_result",
          "data": {
            "text/plain": [
              "True"
            ]
          },
          "metadata": {},
          "execution_count": 110
        }
      ]
    },
    {
      "cell_type": "code",
      "source": [
        "((3 < 0 ) and (-5 > 0) and (1 > 5))"
      ],
      "metadata": {
        "colab": {
          "base_uri": "https://localhost:8080/"
        },
        "id": "_0rWOEhUEb_1",
        "outputId": "bcdde298-366b-4478-e2e2-b74ae431615e"
      },
      "execution_count": 114,
      "outputs": [
        {
          "output_type": "execute_result",
          "data": {
            "text/plain": [
              "False"
            ]
          },
          "metadata": {},
          "execution_count": 114
        }
      ]
    },
    {
      "cell_type": "markdown",
      "source": [
        "# Chapter 4. 변수와 자료형\n",
        "  "
      ],
      "metadata": {
        "id": "IfosQwRoooBO"
      }
    },
    {
      "cell_type": "code",
      "source": [],
      "metadata": {
        "id": "MpGhED4Iy7Dc"
      },
      "execution_count": null,
      "outputs": []
    },
    {
      "cell_type": "code",
      "source": [],
      "metadata": {
        "id": "cHWtp48Xt_IO"
      },
      "execution_count": null,
      "outputs": []
    },
    {
      "cell_type": "code",
      "source": [],
      "metadata": {
        "id": "IYZ5RtBdrXRW"
      },
      "execution_count": null,
      "outputs": []
    }
  ]
}