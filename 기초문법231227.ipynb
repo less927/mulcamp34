{
  "nbformat": 4,
  "nbformat_minor": 0,
  "metadata": {
    "colab": {
      "provenance": [],
      "toc_visible": true,
      "authorship_tag": "ABX9TyOSGXMOzexSvfB3i0WRYQaQ",
      "include_colab_link": true
    },
    "kernelspec": {
      "name": "python3",
      "display_name": "Python 3"
    },
    "language_info": {
      "name": "python"
    }
  },
  "cells": [
    {
      "cell_type": "markdown",
      "metadata": {
        "id": "view-in-github",
        "colab_type": "text"
      },
      "source": [
        "<a href=\"https://colab.research.google.com/github/less927/mulcamp34/blob/main/%EA%B8%B0%EC%B4%88%EB%AC%B8%EB%B2%95231227.ipynb\" target=\"_parent\"><img src=\"https://colab.research.google.com/assets/colab-badge.svg\" alt=\"Open In Colab\"/></a>"
      ]
    },
    {
      "cell_type": "markdown",
      "source": [
        "# Chapter 3. 파이썬을 계산기처럼\n",
        "## 사칙연산\n"
      ],
      "metadata": {
        "id": "0twGlaPOoEml"
      }
    },
    {
      "cell_type": "code",
      "source": [
        "1+1"
      ],
      "metadata": {
        "colab": {
          "base_uri": "https://localhost:8080/"
        },
        "id": "9Znfn0vXrVEo",
        "outputId": "c2cdae2f-f2cc-4ade-ed33-69af2d354969"
      },
      "execution_count": null,
      "outputs": [
        {
          "output_type": "execute_result",
          "data": {
            "text/plain": [
              "2"
            ]
          },
          "metadata": {},
          "execution_count": 35
        }
      ]
    },
    {
      "cell_type": "code",
      "source": [
        "5-2"
      ],
      "metadata": {
        "colab": {
          "base_uri": "https://localhost:8080/"
        },
        "id": "UfzAeksqrgVp",
        "outputId": "c47ecd5d-be08-4fca-e72a-bb2670dc4308"
      },
      "execution_count": null,
      "outputs": [
        {
          "output_type": "execute_result",
          "data": {
            "text/plain": [
              "3"
            ]
          },
          "metadata": {},
          "execution_count": 36
        }
      ]
    },
    {
      "cell_type": "code",
      "source": [
        "15*2"
      ],
      "metadata": {
        "colab": {
          "base_uri": "https://localhost:8080/"
        },
        "id": "a2Q2HWK4riSh",
        "outputId": "4f00a390-38fa-4deb-b116-c1a582a0e22d"
      },
      "execution_count": null,
      "outputs": [
        {
          "output_type": "execute_result",
          "data": {
            "text/plain": [
              "30"
            ]
          },
          "metadata": {},
          "execution_count": 37
        }
      ]
    },
    {
      "cell_type": "code",
      "source": [
        "#나눗셈\n",
        "#python 3.x 실수 2.x 정수\n",
        "10/2  #정수 / 정수 반환값은 실수형"
      ],
      "metadata": {
        "colab": {
          "base_uri": "https://localhost:8080/"
        },
        "id": "4LROFtrZrm4Y",
        "outputId": "c56736e3-0317-42af-f8d6-16f016ea8606"
      },
      "execution_count": null,
      "outputs": [
        {
          "output_type": "execute_result",
          "data": {
            "text/plain": [
              "5.0"
            ]
          },
          "metadata": {},
          "execution_count": 38
        }
      ]
    },
    {
      "cell_type": "code",
      "source": [],
      "metadata": {
        "id": "YdnAmKb2sNY6"
      },
      "execution_count": null,
      "outputs": []
    },
    {
      "cell_type": "markdown",
      "source": [
        "- 실수연산"
      ],
      "metadata": {
        "id": "0s7Sz6issPOw"
      }
    },
    {
      "cell_type": "code",
      "source": [
        "print(1.2 + 5.3)\n",
        "print(5.3 - 2.2)\n",
        "print(2.5*2.5)\n",
        "print(5.5/2.5)"
      ],
      "metadata": {
        "colab": {
          "base_uri": "https://localhost:8080/"
        },
        "id": "1bg-FDoHsRXM",
        "outputId": "76fb5fe5-a7dd-432f-bfae-823c9789c92d"
      },
      "execution_count": null,
      "outputs": [
        {
          "output_type": "stream",
          "name": "stdout",
          "text": [
            "6.5\n",
            "3.0999999999999996\n",
            "6.25\n",
            "2.2\n"
          ]
        }
      ]
    },
    {
      "cell_type": "code",
      "source": [
        "print(5.3 - 2.2)"
      ],
      "metadata": {
        "colab": {
          "base_uri": "https://localhost:8080/"
        },
        "id": "fSfr9vFcsW6d",
        "outputId": "f4c68182-77e9-4aee-d7a0-a32ebccc3a60"
      },
      "execution_count": null,
      "outputs": [
        {
          "output_type": "stream",
          "name": "stdout",
          "text": [
            "3.0999999999999996\n"
          ]
        }
      ]
    },
    {
      "cell_type": "code",
      "source": [
        "print(2.5*2.5)"
      ],
      "metadata": {
        "colab": {
          "base_uri": "https://localhost:8080/"
        },
        "id": "GptLvozYsddB",
        "outputId": "274567fc-a5a8-42db-e78d-3714aaec2607"
      },
      "execution_count": null,
      "outputs": [
        {
          "output_type": "stream",
          "name": "stdout",
          "text": [
            "6.25\n"
          ]
        }
      ]
    },
    {
      "cell_type": "code",
      "source": [
        "print(5.5/2.5)"
      ],
      "metadata": {
        "colab": {
          "base_uri": "https://localhost:8080/"
        },
        "id": "Bzwjkzvqsi94",
        "outputId": "64276cc1-7f8e-4047-ca82-ebbf695a9c0f"
      },
      "execution_count": null,
      "outputs": [
        {
          "output_type": "stream",
          "name": "stdout",
          "text": [
            "2.2\n"
          ]
        }
      ]
    },
    {
      "cell_type": "markdown",
      "source": [
        "###연산규칙\n",
        "- (1)괄호안 계산\n",
        "- (2) 지수계산\n",
        "- (3) 곱셈과 나눗셈\n",
        "- (4) 덧셈과 뺄셈\n",
        "- (5)같은순위 왼쪽 오른쪽\n",
        "- (6)괄호는 안쪽부터\n",
        "\n"
      ],
      "metadata": {
        "id": "NKjQzNF1tZIp"
      }
    },
    {
      "cell_type": "code",
      "source": [
        "print(2 + 3 * 4)"
      ],
      "metadata": {
        "colab": {
          "base_uri": "https://localhost:8080/"
        },
        "id": "RxxPoXXTt3MJ",
        "outputId": "4cba96e8-75d2-4372-9a6c-bfbb614ec5cd"
      },
      "execution_count": null,
      "outputs": [
        {
          "output_type": "stream",
          "name": "stdout",
          "text": [
            "14\n"
          ]
        }
      ]
    },
    {
      "cell_type": "code",
      "source": [
        "print(3 / 2 * 4 - 5 /2)"
      ],
      "metadata": {
        "colab": {
          "base_uri": "https://localhost:8080/"
        },
        "id": "m4FOG-feuBQU",
        "outputId": "0c76778b-1b13-4f42-b8aa-b7308b245977"
      },
      "execution_count": null,
      "outputs": [
        {
          "output_type": "stream",
          "name": "stdout",
          "text": [
            "3.5\n"
          ]
        }
      ]
    },
    {
      "cell_type": "code",
      "source": [
        "print ((5 * 4 - 15) + ((5 - 2) * (9 - 7)))"
      ],
      "metadata": {
        "colab": {
          "base_uri": "https://localhost:8080/"
        },
        "id": "9oR5pwI3uUew",
        "outputId": "b4d3c943-3418-47e9-f466-5505a0ec0786"
      },
      "execution_count": null,
      "outputs": [
        {
          "output_type": "stream",
          "name": "stdout",
          "text": [
            "11\n"
          ]
        }
      ]
    },
    {
      "cell_type": "code",
      "source": [
        "print(type(3))"
      ],
      "metadata": {
        "colab": {
          "base_uri": "https://localhost:8080/"
        },
        "id": "QA691u6cu1XK",
        "outputId": "28deff7c-47f6-4086-e981-1852e8f8f0c6"
      },
      "execution_count": null,
      "outputs": [
        {
          "output_type": "stream",
          "name": "stdout",
          "text": [
            "<class 'int'>\n"
          ]
        }
      ]
    },
    {
      "cell_type": "code",
      "source": [
        "print(type(3.5))"
      ],
      "metadata": {
        "colab": {
          "base_uri": "https://localhost:8080/"
        },
        "id": "M2qp9plWu_x3",
        "outputId": "3eaf0379-d73e-49d7-dead-10339d22e034"
      },
      "execution_count": null,
      "outputs": [
        {
          "output_type": "stream",
          "name": "stdout",
          "text": [
            "<class 'float'>\n"
          ]
        }
      ]
    },
    {
      "cell_type": "code",
      "source": [
        "print(type(~~~))"
      ],
      "metadata": {
        "colab": {
          "base_uri": "https://localhost:8080/",
          "height": 143
        },
        "id": "DCGDGOGPy7d_",
        "outputId": "e1c03ffb-fb07-4667-9128-ee244b25648c"
      },
      "execution_count": null,
      "outputs": [
        {
          "output_type": "error",
          "ename": "SyntaxError",
          "evalue": "ignored",
          "traceback": [
            "\u001b[0;36m  File \u001b[0;32m\"<ipython-input-48-4204741c7bce>\"\u001b[0;36m, line \u001b[0;32m1\u001b[0m\n\u001b[0;31m    print(type(~~~))\u001b[0m\n\u001b[0m                  ^\u001b[0m\n\u001b[0;31mSyntaxError\u001b[0m\u001b[0;31m:\u001b[0m invalid syntax\n"
          ]
        }
      ]
    },
    {
      "cell_type": "markdown",
      "source": [
        "함수의 종류\n",
        "-내장 함수 (built- in) 파이썬 설치와 함께 제공하는 기본적인 함수\n",
        "(print, type)\n",
        "-"
      ],
      "metadata": {
        "id": "_Q-2ZpLxzsvq"
      }
    },
    {
      "cell_type": "markdown",
      "source": [
        "파이썬은 객체지향 언어입니다.\n"
      ],
      "metadata": {
        "id": "iXBQC6-Y1wsy"
      }
    },
    {
      "cell_type": "markdown",
      "source": [
        "##거듭제곱과 나머지\n",
        "- 숫자A 를 N번 곱하지 (Power)\n",
        " +A는 및 N을 지수라고 표현"
      ],
      "metadata": {
        "id": "Rdt6ZBpq2CsC"
      }
    },
    {
      "cell_type": "code",
      "source": [
        "print (2 * 2 * 2 * 2 * 2)"
      ],
      "metadata": {
        "colab": {
          "base_uri": "https://localhost:8080/"
        },
        "id": "laiM8z7N2UOB",
        "outputId": "a9670fb3-5cfa-4b69-8721-f7a44b961bad"
      },
      "execution_count": null,
      "outputs": [
        {
          "output_type": "stream",
          "name": "stdout",
          "text": [
            "32\n"
          ]
        }
      ]
    },
    {
      "cell_type": "code",
      "source": [
        "print (2 ** 5)"
      ],
      "metadata": {
        "colab": {
          "base_uri": "https://localhost:8080/"
        },
        "id": "crULmnOw2dty",
        "outputId": "66f66315-5655-40ab-faac-01a1d718fba4"
      },
      "execution_count": null,
      "outputs": [
        {
          "output_type": "stream",
          "name": "stdout",
          "text": [
            "32\n"
          ]
        }
      ]
    },
    {
      "cell_type": "markdown",
      "source": [
        "- 나머지 구하는 방법"
      ],
      "metadata": {
        "id": "dm3WDjuh2pfI"
      }
    },
    {
      "cell_type": "code",
      "source": [
        "13 % 5"
      ],
      "metadata": {
        "colab": {
          "base_uri": "https://localhost:8080/"
        },
        "id": "t_Qk72gW2woZ",
        "outputId": "883dc227-8201-4179-ac0b-5d240aaf5905"
      },
      "execution_count": null,
      "outputs": [
        {
          "output_type": "execute_result",
          "data": {
            "text/plain": [
              "3"
            ]
          },
          "metadata": {},
          "execution_count": 51
        }
      ]
    },
    {
      "cell_type": "code",
      "source": [
        "13 // 5"
      ],
      "metadata": {
        "colab": {
          "base_uri": "https://localhost:8080/"
        },
        "id": "nAf3U2nI2zxY",
        "outputId": "fb338e70-a894-45d4-eaf0-7a4cd30a8e6b"
      },
      "execution_count": null,
      "outputs": [
        {
          "output_type": "execute_result",
          "data": {
            "text/plain": [
              "2"
            ]
          },
          "metadata": {},
          "execution_count": 52
        }
      ]
    },
    {
      "cell_type": "markdown",
      "source": [
        "- 교재 표 3-1 (p34) 산술연산자 표 정리"
      ],
      "metadata": {
        "id": "cBp5Ka0p3DTO"
      }
    },
    {
      "cell_type": "markdown",
      "source": [
        "## 과학적 표기법\n",
        "- 아주 큰 수, 작은 수를 다뤄야 하는 케이스\n",
        "- 300,000,000= 3*10**8 , 3e8"
      ],
      "metadata": {
        "id": "cTXEN52t3kiB"
      }
    },
    {
      "cell_type": "code",
      "source": [
        "print (3*10**8)\n",
        "print (3e8)"
      ],
      "metadata": {
        "colab": {
          "base_uri": "https://localhost:8080/"
        },
        "id": "MfJgyACL4eMf",
        "outputId": "4696251e-2609-4929-e49e-edf701f39125"
      },
      "execution_count": null,
      "outputs": [
        {
          "output_type": "stream",
          "name": "stdout",
          "text": [
            "300000000\n",
            "300000000.0\n"
          ]
        }
      ]
    },
    {
      "cell_type": "code",
      "source": [
        "3e-4"
      ],
      "metadata": {
        "colab": {
          "base_uri": "https://localhost:8080/"
        },
        "id": "wBtXkgeU4-W-",
        "outputId": "2bf49e5b-1321-4058-b4f0-fb7cdb5f4ee4"
      },
      "execution_count": null,
      "outputs": [
        {
          "output_type": "execute_result",
          "data": {
            "text/plain": [
              "0.0003"
            ]
          },
          "metadata": {},
          "execution_count": 54
        }
      ]
    },
    {
      "cell_type": "markdown",
      "source": [
        "## 진수 표현과 변환\n"
      ],
      "metadata": {
        "id": "QNjzX_I55alW"
      }
    },
    {
      "cell_type": "markdown",
      "source": [],
      "metadata": {
        "id": "CkdtopAW6un1"
      }
    },
    {
      "cell_type": "code",
      "source": [
        "0b10001 2진법"
      ],
      "metadata": {
        "colab": {
          "base_uri": "https://localhost:8080/",
          "height": 143
        },
        "id": "QhilAvCl6dFl",
        "outputId": "d07a067b-a2c5-4736-ac67-f6ca50c65d80"
      },
      "execution_count": null,
      "outputs": [
        {
          "output_type": "error",
          "ename": "SyntaxError",
          "evalue": "ignored",
          "traceback": [
            "\u001b[0;36m  File \u001b[0;32m\"<ipython-input-55-ec44d864f949>\"\u001b[0;36m, line \u001b[0;32m1\u001b[0m\n\u001b[0;31m    0b10001 2진법\u001b[0m\n\u001b[0m            ^\u001b[0m\n\u001b[0;31mSyntaxError\u001b[0m\u001b[0;31m:\u001b[0m invalid decimal literal\n"
          ]
        }
      ]
    },
    {
      "cell_type": "code",
      "source": [
        "0o21 8 8진법"
      ],
      "metadata": {
        "id": "x1SGaBAu6iwo"
      },
      "execution_count": null,
      "outputs": []
    },
    {
      "cell_type": "code",
      "source": [
        "0x11 16진법"
      ],
      "metadata": {
        "id": "f3zTdtve6kEe"
      },
      "execution_count": null,
      "outputs": []
    },
    {
      "cell_type": "markdown",
      "source": [
        "-메소드\n",
        " + bin() 10진수를 2진수로\n",
        " + oct() 10-> 8\n",
        " + hex() 10-> 16\n",
        "\n",
        "## 논리 연산 및 비교 연산\n",
        "- 참 / 거짓\n",
        "-"
      ],
      "metadata": {
        "id": "ZUIci5Af63ql"
      }
    },
    {
      "cell_type": "code",
      "source": [
        "print(True)"
      ],
      "metadata": {
        "id": "XpTWKWat783P"
      },
      "execution_count": null,
      "outputs": []
    },
    {
      "cell_type": "code",
      "source": [
        "print(False)"
      ],
      "metadata": {
        "id": "BNJ_uwaG8Aqm"
      },
      "execution_count": null,
      "outputs": []
    },
    {
      "cell_type": "code",
      "source": [
        "print(type(True))"
      ],
      "metadata": {
        "id": "yj--PjIi8Dlc"
      },
      "execution_count": null,
      "outputs": []
    },
    {
      "cell_type": "markdown",
      "source": [
        "### 논리 연산자\n",
        "- and : A and B : A 와 B 모두 참일때 참\n",
        "- or : A 와 B 중 하나라도 참이면 참 둥다 거짓일때 거짓\n",
        "- not A 가 참일때 거짓 A 가 거짓이면 참\n"
      ],
      "metadata": {
        "id": "hxGr4flo8U7j"
      }
    },
    {
      "cell_type": "code",
      "source": [
        "print(True and True)\n",
        "print(True and False)\n",
        "print(False and true)\n",
        "print(False and false)"
      ],
      "metadata": {
        "id": "MG_I28_nBX7o"
      },
      "execution_count": null,
      "outputs": []
    },
    {
      "cell_type": "code",
      "source": [
        "print(True or True)\n",
        "print(True or False)\n",
        "print(False or True)\n",
        "print(False or False)"
      ],
      "metadata": {
        "id": "iPuIcx6U8MPe"
      },
      "execution_count": null,
      "outputs": []
    },
    {
      "cell_type": "code",
      "source": [
        "not True"
      ],
      "metadata": {
        "id": "iwLtkGSxCAbq"
      },
      "execution_count": null,
      "outputs": []
    },
    {
      "cell_type": "code",
      "source": [
        "not False"
      ],
      "metadata": {
        "id": "3HX1N6lPCGF-"
      },
      "execution_count": null,
      "outputs": []
    },
    {
      "cell_type": "markdown",
      "source": [
        "### 비교연산"
      ],
      "metadata": {
        "id": "I-Dsnt_CCewR"
      }
    },
    {
      "cell_type": "code",
      "source": [
        "print(1==2)\n",
        "print(1 != 2)\n",
        "print(1 <= 2)\n",
        "print(1 < 2)\n",
        "print(1 >= 2)\n",
        "print(1 > 2)"
      ],
      "metadata": {
        "colab": {
          "base_uri": "https://localhost:8080/"
        },
        "id": "mFEhIoJ4CiOw",
        "outputId": "f1d6a426-98be-44a6-c081-af9a72a04e92"
      },
      "execution_count": null,
      "outputs": [
        {
          "output_type": "stream",
          "name": "stdout",
          "text": [
            "False\n",
            "True\n",
            "True\n",
            "True\n",
            "False\n",
            "False\n"
          ]
        }
      ]
    },
    {
      "cell_type": "markdown",
      "source": [
        "비교연산 + 논리연산"
      ],
      "metadata": {
        "id": "P8k8F_U9EDBP"
      }
    },
    {
      "cell_type": "code",
      "source": [
        "1 > 0 and -2 < 0 # 비교연산 (1순위) 논리연산 (2순위)"
      ],
      "metadata": {
        "colab": {
          "base_uri": "https://localhost:8080/"
        },
        "id": "lfFZ2eknEKoE",
        "outputId": "dd2b2615-f005-480c-e062-35ae1589d272"
      },
      "execution_count": null,
      "outputs": [
        {
          "output_type": "execute_result",
          "data": {
            "text/plain": [
              "True"
            ]
          },
          "metadata": {},
          "execution_count": 60
        }
      ]
    },
    {
      "cell_type": "code",
      "source": [
        "((3 < 0 ) and (-5 > 0) and (1 > 5))"
      ],
      "metadata": {
        "colab": {
          "base_uri": "https://localhost:8080/"
        },
        "id": "_0rWOEhUEb_1",
        "outputId": "849c8233-31ba-4203-9c9d-34f570e368d3"
      },
      "execution_count": null,
      "outputs": [
        {
          "output_type": "execute_result",
          "data": {
            "text/plain": [
              "False"
            ]
          },
          "metadata": {},
          "execution_count": 61
        }
      ]
    },
    {
      "cell_type": "markdown",
      "source": [
        "\n",
        "# Chapter 4. 변수와 자료형\n",
        "\n",
        "## 변수\n"
      ],
      "metadata": {
        "id": "IfosQwRoooBO"
      }
    },
    {
      "cell_type": "code",
      "source": [
        "1 + 1"
      ],
      "metadata": {
        "colab": {
          "base_uri": "https://localhost:8080/"
        },
        "id": "OitoPytffKUL",
        "outputId": "8337570c-55a4-411a-816c-83db5fd60db7"
      },
      "execution_count": null,
      "outputs": [
        {
          "output_type": "execute_result",
          "data": {
            "text/plain": [
              "2"
            ]
          },
          "metadata": {},
          "execution_count": 58
        }
      ]
    },
    {
      "cell_type": "markdown",
      "source": [
        "변수명 = data"
      ],
      "metadata": {
        "id": "OuCxkrJZfZzs"
      }
    },
    {
      "cell_type": "code",
      "source": [
        "# 변수 : variable, 데이터\n",
        "a = 100\n",
        "b = 110\n",
        "c = 120\n",
        "print ((a)*(b))"
      ],
      "metadata": {
        "colab": {
          "base_uri": "https://localhost:8080/"
        },
        "id": "AUK8y2HefM2V",
        "outputId": "095ea53b-c323-4aa1-9568-d1dcad930ab0"
      },
      "execution_count": null,
      "outputs": [
        {
          "output_type": "stream",
          "name": "stdout",
          "text": [
            "11000\n"
          ]
        }
      ]
    },
    {
      "cell_type": "code",
      "source": [
        "#변수명 짓기 규칙\n",
        "#snake\n",
        "num_a = 100\n",
        "num_b = 110\n",
        "num_c = 120\n",
        "\n",
        "#camel\n",
        "#myStudent = evan\n",
        "#mySchool = 학교\n",
        "print (num_a)#내장함수명을 변ㅜ명으로   x\n",
        "num = 1\n",
        "Num = 2\n",
        "print(num)\n",
        "print(Num)"
      ],
      "metadata": {
        "colab": {
          "base_uri": "https://localhost:8080/"
        },
        "id": "EzjUHRNvfXrh",
        "outputId": "e351b444-41c3-418a-f534-b8696b2206e3"
      },
      "execution_count": null,
      "outputs": [
        {
          "output_type": "stream",
          "name": "stdout",
          "text": [
            "100\n",
            "1\n",
            "2\n"
          ]
        }
      ]
    },
    {
      "cell_type": "markdown",
      "source": [
        "### 예약어는 변수명으로 이용할수없음\n",
        "- ex) print, None, True ,etc\n",
        "\n",
        "### 변수의 반대어 상수\n",
        "- 한번 지정후 변하지않는값"
      ],
      "metadata": {
        "id": "Z_YVmAGelLH0"
      }
    },
    {
      "cell_type": "code",
      "source": [
        "#상수\n",
        "pi = 3.14"
      ],
      "metadata": {
        "id": "C5XjdFY1h1DW"
      },
      "execution_count": null,
      "outputs": []
    },
    {
      "cell_type": "code",
      "source": [
        "num1 = (int(num1))\n",
        "num2 = (int(num2))\n",
        "\n",
        "print(num1, num2)"
      ],
      "metadata": {
        "colab": {
          "base_uri": "https://localhost:8080/"
        },
        "id": "VOSeOYDNqiPS",
        "outputId": "31f543b9-2d74-48be-d458-8017498eee53"
      },
      "execution_count": null,
      "outputs": [
        {
          "output_type": "stream",
          "name": "stdout",
          "text": [
            "100 200\n"
          ]
        }
      ]
    },
    {
      "cell_type": "code",
      "source": [
        "print(num1 + num2)"
      ],
      "metadata": {
        "colab": {
          "base_uri": "https://localhost:8080/"
        },
        "id": "08nXPdQ4rn_k",
        "outputId": "80b5aa7a-4f14-466c-e315-eefdf6053527"
      },
      "execution_count": null,
      "outputs": [
        {
          "output_type": "stream",
          "name": "stdout",
          "text": [
            "300\n"
          ]
        }
      ]
    },
    {
      "cell_type": "code",
      "source": [
        "print(type(num1))\n",
        "print(type(num2))"
      ],
      "metadata": {
        "colab": {
          "base_uri": "https://localhost:8080/"
        },
        "id": "XQ0AfJsmsaXE",
        "outputId": "9a5e3e53-3674-4a8b-fa56-0f53554e203b"
      },
      "execution_count": null,
      "outputs": [
        {
          "output_type": "stream",
          "name": "stdout",
          "text": [
            "<class 'str'>\n",
            "<class 'str'>\n"
          ]
        }
      ]
    },
    {
      "cell_type": "markdown",
      "source": [
        "## 문자열\n",
        "- \" / ' 지정\n"
      ],
      "metadata": {
        "id": "b_2l2zmYxhe1"
      }
    },
    {
      "cell_type": "code",
      "source": [
        "string 1 - 'string test'"
      ],
      "metadata": {
        "colab": {
          "base_uri": "https://localhost:8080/",
          "height": 143
        },
        "id": "UcOHuOjMylRC",
        "outputId": "4d379a4a-729f-41cb-c2b8-4fc036669457"
      },
      "execution_count": null,
      "outputs": [
        {
          "output_type": "error",
          "ename": "SyntaxError",
          "evalue": "ignored",
          "traceback": [
            "\u001b[0;36m  File \u001b[0;32m\"<ipython-input-36-8157ab0f89f0>\"\u001b[0;36m, line \u001b[0;32m1\u001b[0m\n\u001b[0;31m    string 1 - 'string test'\u001b[0m\n\u001b[0m           ^\u001b[0m\n\u001b[0;31mSyntaxError\u001b[0m\u001b[0;31m:\u001b[0m invalid syntax\n"
          ]
        }
      ]
    },
    {
      "cell_type": "code",
      "source": [
        "string3 - 'this is a \"double\" string test'"
      ],
      "metadata": {
        "colab": {
          "base_uri": "https://localhost:8080/",
          "height": 143
        },
        "id": "kul4z_lfyvNV",
        "outputId": "f1eedde0-7b0e-4ac2-a37f-ca73dea961d6"
      },
      "execution_count": null,
      "outputs": [
        {
          "output_type": "error",
          "ename": "SyntaxError",
          "evalue": "ignored",
          "traceback": [
            "\u001b[0;36m  File \u001b[0;32m\"<ipython-input-38-7df2a32f5c70>\"\u001b[0;36m, line \u001b[0;32m1\u001b[0m\n\u001b[0;31m    print string33 - 'this is a \"double\" string test'\u001b[0m\n\u001b[0m    ^\u001b[0m\n\u001b[0;31mSyntaxError\u001b[0m\u001b[0;31m:\u001b[0m Missing parentheses in call to 'print'. Did you mean print(...)?\n"
          ]
        }
      ]
    },
    {
      "cell_type": "code",
      "source": [
        "long_string1 = \"\"\"\n",
        "a\n",
        "a\n",
        "a\n",
        "a\n",
        "\"\"\"\n",
        "\n",
        "print(long_string)"
      ],
      "metadata": {
        "colab": {
          "base_uri": "https://localhost:8080/",
          "height": 213
        },
        "id": "vTbnRh3Iy-tr",
        "outputId": "d6a39b66-6843-4859-a9fc-83ed57bc925b"
      },
      "execution_count": null,
      "outputs": [
        {
          "output_type": "error",
          "ename": "NameError",
          "evalue": "ignored",
          "traceback": [
            "\u001b[0;31m---------------------------------------------------------------------------\u001b[0m",
            "\u001b[0;31mNameError\u001b[0m                                 Traceback (most recent call last)",
            "\u001b[0;32m<ipython-input-39-b8104a1f53d9>\u001b[0m in \u001b[0;36m<cell line: 8>\u001b[0;34m()\u001b[0m\n\u001b[1;32m      6\u001b[0m \"\"\"\n\u001b[1;32m      7\u001b[0m \u001b[0;34m\u001b[0m\u001b[0m\n\u001b[0;32m----> 8\u001b[0;31m \u001b[0mprint\u001b[0m\u001b[0;34m(\u001b[0m\u001b[0mlong_string\u001b[0m\u001b[0;34m)\u001b[0m\u001b[0;34m\u001b[0m\u001b[0;34m\u001b[0m\u001b[0m\n\u001b[0m",
            "\u001b[0;31mNameError\u001b[0m: name 'long_string' is not defined"
          ]
        }
      ]
    },
    {
      "cell_type": "code",
      "source": [
        "a = 'Enjoy'\n",
        "b = ' Python!'\n",
        "print (a + b)"
      ],
      "metadata": {
        "colab": {
          "base_uri": "https://localhost:8080/"
        },
        "id": "ZhrAAa_EzQuy",
        "outputId": "e155372e-de66-409f-9efb-45b5733b082b"
      },
      "execution_count": null,
      "outputs": [
        {
          "output_type": "stream",
          "name": "stdout",
          "text": [
            "Enjoy Python!\n"
          ]
        }
      ]
    },
    {
      "cell_type": "code",
      "source": [
        "print (a * 3\n",
        ")"
      ],
      "metadata": {
        "colab": {
          "base_uri": "https://localhost:8080/"
        },
        "id": "JPc6h3L43t7N",
        "outputId": "50c19bf0-0d5b-4f8d-de2e-40129a555a82"
      },
      "execution_count": null,
      "outputs": [
        {
          "output_type": "stream",
          "name": "stdout",
          "text": [
            " Enjoy Enjoy Enjoy\n"
          ]
        }
      ]
    },
    {
      "cell_type": "markdown",
      "source": [
        "## 리스트 (list) p.49\n"
      ],
      "metadata": {
        "id": "vCn2ta9s4JbE"
      }
    },
    {
      "cell_type": "code",
      "source": [
        "# 1번 학생의 국어 영어 수학 과학\n",
        "student1 = [90, 95, 85,80]\n",
        "student1"
      ],
      "metadata": {
        "colab": {
          "base_uri": "https://localhost:8080/"
        },
        "id": "ycSzd86W5DvK",
        "outputId": "2e5200a9-4b08-484f-96ba-7eb9da5483a4"
      },
      "execution_count": null,
      "outputs": [
        {
          "output_type": "execute_result",
          "data": {
            "text/plain": [
              "[90, 95, 85, 80]"
            ]
          },
          "metadata": {},
          "execution_count": 47
        }
      ]
    },
    {
      "cell_type": "code",
      "source": [
        "print(type(student1))"
      ],
      "metadata": {
        "colab": {
          "base_uri": "https://localhost:8080/"
        },
        "id": "hlcwZ9WA4ElA",
        "outputId": "bc345c70-d473-42d2-ebd7-1e4fa1f53cb5"
      },
      "execution_count": null,
      "outputs": [
        {
          "output_type": "stream",
          "name": "stdout",
          "text": [
            "<class 'list'>\n"
          ]
        }
      ]
    },
    {
      "cell_type": "markdown",
      "source": [
        "### 인덱싱(indexing)\n",
        "- 리스트에서 특정 데이터를 추출한다\n"
      ],
      "metadata": {
        "id": "yYl2UwM95rQK"
      }
    },
    {
      "cell_type": "code",
      "source": [
        "student1"
      ],
      "metadata": {
        "colab": {
          "base_uri": "https://localhost:8080/"
        },
        "id": "3MTBTdxe5USD",
        "outputId": "76f3e157-d443-4de7-d8fc-336d7c563be7"
      },
      "execution_count": null,
      "outputs": [
        {
          "output_type": "execute_result",
          "data": {
            "text/plain": [
              "[90, 95, 85, 80]"
            ]
          },
          "metadata": {},
          "execution_count": 52
        }
      ]
    },
    {
      "cell_type": "markdown",
      "source": [],
      "metadata": {
        "id": "8GMOIrHU6euF"
      }
    },
    {
      "cell_type": "code",
      "source": [
        "print (student1[0])\n",
        "print (student1[1])\n",
        "print (student1[2])\n",
        "print (student1[3])"
      ],
      "metadata": {
        "colab": {
          "base_uri": "https://localhost:8080/"
        },
        "id": "6_aGjIo_6Dbg",
        "outputId": "ec5f3964-ea07-4e2e-dc07-09cb0ab3e3af"
      },
      "execution_count": null,
      "outputs": [
        {
          "output_type": "stream",
          "name": "stdout",
          "text": [
            "100\n",
            "95\n",
            "85\n",
            "80\n"
          ]
        }
      ]
    },
    {
      "cell_type": "code",
      "source": [
        "greeting = 'hello, Python'"
      ],
      "metadata": {
        "id": "YbrmT-or6GVX"
      },
      "execution_count": null,
      "outputs": []
    },
    {
      "cell_type": "code",
      "source": [
        "print (b[1])"
      ],
      "metadata": {
        "colab": {
          "base_uri": "https://localhost:8080/"
        },
        "id": "1idvgvSm69SI",
        "outputId": "04d1bde5-26ce-48e5-d63c-e04db79eb4a7"
      },
      "execution_count": null,
      "outputs": [
        {
          "output_type": "stream",
          "name": "stdout",
          "text": [
            "P\n"
          ]
        }
      ]
    },
    {
      "cell_type": "code",
      "source": [
        "print (greeting[7])"
      ],
      "metadata": {
        "colab": {
          "base_uri": "https://localhost:8080/"
        },
        "id": "RBdWAOK67G59",
        "outputId": "7c7ee2e1-3a35-408b-c6fa-d35fd3547b4f"
      },
      "execution_count": null,
      "outputs": [
        {
          "output_type": "stream",
          "name": "stdout",
          "text": [
            "P\n"
          ]
        }
      ]
    },
    {
      "cell_type": "markdown",
      "source": [
        "### 리스트 수정, 삭제"
      ],
      "metadata": {
        "id": "Nnsu_QI58TB3"
      }
    },
    {
      "cell_type": "code",
      "source": [
        "student1 [0] = 100\n",
        "student1 [0]"
      ],
      "metadata": {
        "colab": {
          "base_uri": "https://localhost:8080/"
        },
        "id": "tO4zd2wA8XuJ",
        "outputId": "5f5a6219-649f-401f-c4e0-c5f6d9a11f84"
      },
      "execution_count": null,
      "outputs": [
        {
          "output_type": "execute_result",
          "data": {
            "text/plain": [
              "100"
            ]
          },
          "metadata": {},
          "execution_count": 74
        }
      ]
    },
    {
      "cell_type": "code",
      "source": [
        "#문자열 덧셈연산자 + 곱셈연산자\n",
        "#리스트에 적용\n",
        "myFriends = ['김', '박', '유', '이']\n",
        "newFriends = ['창']\n",
        "\n",
        "myFriends2 = myFriends + newFriends\n",
        "print(myFriends2)\n",
        "\n"
      ],
      "metadata": {
        "colab": {
          "base_uri": "https://localhost:8080/"
        },
        "id": "X68McKHz8_dt",
        "outputId": "82cdec6f-98c7-4c0b-bd7a-37b71713fb8a"
      },
      "execution_count": null,
      "outputs": [
        {
          "output_type": "stream",
          "name": "stdout",
          "text": [
            "['김', '박', '유', '이', '창']\n"
          ]
        }
      ]
    },
    {
      "cell_type": "markdown",
      "source": [],
      "metadata": {
        "id": "xC6-nMkk8-gJ"
      }
    },
    {
      "cell_type": "code",
      "source": [
        "myNumbers = [1]\n",
        "myNumbers * 3"
      ],
      "metadata": {
        "colab": {
          "base_uri": "https://localhost:8080/"
        },
        "id": "BEY0IsKI73QU",
        "outputId": "7ef578f6-dc3e-4d8b-807d-1b34f90f0577"
      },
      "execution_count": null,
      "outputs": [
        {
          "output_type": "execute_result",
          "data": {
            "text/plain": [
              "[1, 1, 1]"
            ]
          },
          "metadata": {},
          "execution_count": 80
        }
      ]
    },
    {
      "cell_type": "code",
      "source": [
        "mixed = [0, 2, 3.14, 'Python', True, myFriends2]\n",
        "mixed"
      ],
      "metadata": {
        "colab": {
          "base_uri": "https://localhost:8080/"
        },
        "id": "dBAs4q_a-04Y",
        "outputId": "6cdf77ed-2d91-47e2-c749-29242485d8a8"
      },
      "execution_count": null,
      "outputs": [
        {
          "output_type": "execute_result",
          "data": {
            "text/plain": [
              "[0, 2, 3.14, 'Python', True, ['김', '박', '유', '이', '창']]"
            ]
          },
          "metadata": {},
          "execution_count": 82
        }
      ]
    },
    {
      "cell_type": "code",
      "source": [
        "mixed[3][1]"
      ],
      "metadata": {
        "colab": {
          "base_uri": "https://localhost:8080/",
          "height": 35
        },
        "id": "iDufKGt5_1Db",
        "outputId": "dfc70615-e091-4e6d-aa26-f27d31c3bbc7"
      },
      "execution_count": null,
      "outputs": [
        {
          "output_type": "execute_result",
          "data": {
            "text/plain": [
              "'y'"
            ],
            "application/vnd.google.colaboratory.intrinsic+json": {
              "type": "string"
            }
          },
          "metadata": {},
          "execution_count": 109
        }
      ]
    },
    {
      "cell_type": "markdown",
      "source": [
        "### 슬라이싱\n",
        "- 문자열, 리스트 그 외 파이썬 거의 대부분 자료형 원리 동일 적"
      ],
      "metadata": {
        "id": "6Y1kTwkIF6as"
      }
    },
    {
      "cell_type": "code",
      "source": [
        "list_data = [0, 1, 2, 3, 4, 5, 6, 7, 8, 9]\n",
        "print(list_data)\n",
        "print(list_data[0:6])\n",
        "print(list_data[4:])\n",
        "print(list_data[:])\n",
        "print(list_data[::2])\n",
        "print(list_data[::3])"
      ],
      "metadata": {
        "colab": {
          "base_uri": "https://localhost:8080/"
        },
        "id": "Jd9hraBlGBxP",
        "outputId": "cfc93c20-5d01-4362-9bc0-b89d5305bd2b"
      },
      "execution_count": null,
      "outputs": [
        {
          "output_type": "stream",
          "name": "stdout",
          "text": [
            "[0, 1, 2, 3, 4, 5, 6, 7, 8, 9]\n",
            "[0, 1, 2, 3, 4, 5]\n",
            "[4, 5, 6, 7, 8, 9]\n",
            "[0, 1, 2, 3, 4, 5, 6, 7, 8, 9]\n",
            "[0, 2, 4, 6, 8]\n",
            "[0, 3, 6, 9]\n"
          ]
        }
      ]
    },
    {
      "cell_type": "code",
      "source": [
        "greeting = 'hello, Python'\n",
        "print(greeting[0:5])\n",
        "\n"
      ],
      "metadata": {
        "colab": {
          "base_uri": "https://localhost:8080/"
        },
        "id": "pvLMDgpcGQfk",
        "outputId": "20f9bbe0-68a0-49bc-ce6e-575307ee46d8"
      },
      "execution_count": null,
      "outputs": [
        {
          "output_type": "stream",
          "name": "stdout",
          "text": [
            "hello\n"
          ]
        }
      ]
    },
    {
      "cell_type": "markdown",
      "source": [
        "##튜플(Tuple)\n",
        "- 리스트와 유사하다"
      ],
      "metadata": {
        "id": "4t7Zix1rKYkd"
      }
    },
    {
      "cell_type": "code",
      "source": [
        "tuple1 = (1, 2, 3, 4)\n",
        "print(tuple1)\n",
        "print(type(tuple))"
      ],
      "metadata": {
        "colab": {
          "base_uri": "https://localhost:8080/"
        },
        "id": "a_L-3hMpMH9g",
        "outputId": "a8249edf-3ef7-4ef1-eefb-dc5b70d9a8fd"
      },
      "execution_count": null,
      "outputs": [
        {
          "output_type": "stream",
          "name": "stdout",
          "text": [
            "(1, 2, 3, 4)\n",
            "<class 'type'>\n"
          ]
        }
      ]
    },
    {
      "cell_type": "markdown",
      "source": [
        "인덱싱"
      ],
      "metadata": {
        "id": "7W9PWVYKMWaP"
      }
    },
    {
      "cell_type": "code",
      "source": [
        "tuple_data = (0, 1, 2, 3, 4, 5, 6, 7, 8, 9)\n",
        "print(tuple_data[0:5])\n",
        "print(tuple_data[:])\n",
        "print(tuple_data[-1])"
      ],
      "metadata": {
        "colab": {
          "base_uri": "https://localhost:8080/"
        },
        "id": "J-u2KkLqHj2S",
        "outputId": "f7fc4e6f-ab79-4917-8ae4-a3dc088b2c68"
      },
      "execution_count": null,
      "outputs": [
        {
          "output_type": "stream",
          "name": "stdout",
          "text": [
            "(0, 1, 2, 3, 4)\n",
            "(0, 1, 2, 3, 4, 5, 6, 7, 8, 9)\n",
            "9\n"
          ]
        }
      ]
    },
    {
      "cell_type": "markdown",
      "source": [
        "### 차이점"
      ],
      "metadata": {
        "id": "Jd3zKBV6NI71"
      }
    },
    {
      "cell_type": "code",
      "source": [
        "\n",
        "l_data = [0, 1, 2, 3,]\n",
        "l_data[3] = [30]\n",
        "del l_data[3]"
      ],
      "metadata": {
        "id": "TntwMl50Mj10"
      },
      "execution_count": null,
      "outputs": []
    },
    {
      "cell_type": "code",
      "source": [
        "t_data = (0, 1, 2, 3,)\n",
        "t_data[3] = 30"
      ],
      "metadata": {
        "colab": {
          "base_uri": "https://localhost:8080/",
          "height": 196
        },
        "id": "IVkl47nYNnJU",
        "outputId": "d086eb02-8b27-4c23-84cd-92a7eab24f25"
      },
      "execution_count": null,
      "outputs": [
        {
          "output_type": "error",
          "ename": "TypeError",
          "evalue": "ignored",
          "traceback": [
            "\u001b[0;31m---------------------------------------------------------------------------\u001b[0m",
            "\u001b[0;31mTypeError\u001b[0m                                 Traceback (most recent call last)",
            "\u001b[0;32m<ipython-input-146-dfd53e4bb914>\u001b[0m in \u001b[0;36m<cell line: 2>\u001b[0;34m()\u001b[0m\n\u001b[1;32m      1\u001b[0m \u001b[0mt_data\u001b[0m \u001b[0;34m=\u001b[0m \u001b[0;34m(\u001b[0m\u001b[0;36m0\u001b[0m\u001b[0;34m,\u001b[0m \u001b[0;36m1\u001b[0m\u001b[0;34m,\u001b[0m \u001b[0;36m2\u001b[0m\u001b[0;34m,\u001b[0m \u001b[0;36m3\u001b[0m\u001b[0;34m,\u001b[0m\u001b[0;34m)\u001b[0m\u001b[0;34m\u001b[0m\u001b[0;34m\u001b[0m\u001b[0m\n\u001b[0;32m----> 2\u001b[0;31m \u001b[0mt_data\u001b[0m\u001b[0;34m[\u001b[0m\u001b[0;36m3\u001b[0m\u001b[0;34m]\u001b[0m \u001b[0;34m=\u001b[0m \u001b[0;36m30\u001b[0m\u001b[0;34m\u001b[0m\u001b[0;34m\u001b[0m\u001b[0m\n\u001b[0m",
            "\u001b[0;31mTypeError\u001b[0m: 'tuple' object does not support item assignment"
          ]
        }
      ]
    },
    {
      "cell_type": "code",
      "source": [],
      "metadata": {
        "id": "xfC76296OXeB"
      },
      "execution_count": null,
      "outputs": []
    }
  ]
}