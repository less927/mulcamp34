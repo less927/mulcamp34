{
  "nbformat": 4,
  "nbformat_minor": 0,
  "metadata": {
    "colab": {
      "provenance": [],
      "authorship_tag": "ABX9TyM9RDrw6oPSwl7FtM/gxWzR",
      "include_colab_link": true
    },
    "kernelspec": {
      "name": "python3",
      "display_name": "Python 3"
    },
    "language_info": {
      "name": "python"
    }
  },
  "cells": [
    {
      "cell_type": "markdown",
      "metadata": {
        "id": "view-in-github",
        "colab_type": "text"
      },
      "source": [
        "<a href=\"https://colab.research.google.com/github/less927/mulcamp34/blob/main/%EA%B8%B0%EC%B4%88%EB%AC%B8%EB%B2%95231228.ipynb\" target=\"_parent\"><img src=\"https://colab.research.google.com/assets/colab-badge.svg\" alt=\"Open In Colab\"/></a>"
      ]
    },
    {
      "cell_type": "markdown",
      "source": [
        "#27일 리뷰\n",
        "-int, flaot, str, bool(True/False)\n",
        "-리스트,튜플"
      ],
      "metadata": {
        "id": "NcW2D0dJxfaK"
      }
    },
    {
      "cell_type": "markdown",
      "source": [
        "#문자열 함수 (p158)\n",
        "- function,method"
      ],
      "metadata": {
        "id": "wOOUTMHOxN7G"
      }
    },
    {
      "cell_type": "code",
      "source": [
        "coffe_menu_str = \"에스프레소,아메리카노,카페라테,카푸치노\"\n",
        "coffe_menu_str.split('.')\n",
        "\n",
        "#결과해석\n",
        "#내가원하는대로 결과가 나왔는가\n",
        "#반환값,Return 자료형 확인필수"
      ],
      "metadata": {
        "colab": {
          "base_uri": "https://localhost:8080/"
        },
        "id": "h60IF8mQx-CQ",
        "outputId": "defd3bb3-a73b-4d09-97da-01a493bd123d"
      },
      "execution_count": null,
      "outputs": [
        {
          "output_type": "execute_result",
          "data": {
            "text/plain": [
              "['에스프레소,아메리카노,카페라테,카푸치노']"
            ]
          },
          "metadata": {},
          "execution_count": 6
        }
      ]
    },
    {
      "cell_type": "code",
      "source": [
        "\"에스프레소,아메리카노,카페라테,카푸치노\".split(',')"
      ],
      "metadata": {
        "colab": {
          "base_uri": "https://localhost:8080/"
        },
        "id": "XVJB9xetzgKB",
        "outputId": "17137e8e-b407-4894-818b-ffa4d5a65ec5"
      },
      "execution_count": null,
      "outputs": [
        {
          "output_type": "execute_result",
          "data": {
            "text/plain": [
              "['에스프레소', '아메리카노', '카페라테', '카푸치노']"
            ]
          },
          "metadata": {},
          "execution_count": 16
        }
      ]
    },
    {
      "cell_type": "code",
      "source": [
        "\"에스프레소 아메리카노 카페라테 카푸치노\".split(' ')"
      ],
      "metadata": {
        "colab": {
          "base_uri": "https://localhost:8080/"
        },
        "id": "FQCi3ijGzug4",
        "outputId": "e52f7b6b-2e6d-44e9-f9d0-ea4cc12c1b8b"
      },
      "execution_count": null,
      "outputs": [
        {
          "output_type": "execute_result",
          "data": {
            "text/plain": [
              "['에스프레소', '아메리카노', '카페라테', '카푸치노']"
            ]
          },
          "metadata": {},
          "execution_count": 14
        }
      ]
    },
    {
      "cell_type": "code",
      "source": [
        "\"에스프레소. 아메리카노. 카페라테. 카푸치노\".split(' ')"
      ],
      "metadata": {
        "colab": {
          "base_uri": "https://localhost:8080/"
        },
        "id": "aYtShPn50TFk",
        "outputId": "65fc76c4-f4d3-4bbe-ea4d-231ecc8f587c"
      },
      "execution_count": null,
      "outputs": [
        {
          "output_type": "execute_result",
          "data": {
            "text/plain": [
              "['에스프레소.', '아메리카노.', '카페라테.', '카푸치노']"
            ]
          },
          "metadata": {},
          "execution_count": 17
        }
      ]
    },
    {
      "cell_type": "code",
      "source": [
        "phone_number = \"+82-10-6508-1377\"\n",
        "\n",
        "#+82만추출\n",
        "\"+82-10-6508-1377\"[0:3]\n",
        "result = phone_number.split('-')\n",
        "result"
      ],
      "metadata": {
        "colab": {
          "base_uri": "https://localhost:8080/"
        },
        "id": "Ykee4nqi0fKl",
        "outputId": "ae12b193-2b1e-4a98-9948-9bd78ac9402f"
      },
      "execution_count": null,
      "outputs": [
        {
          "output_type": "execute_result",
          "data": {
            "text/plain": [
              "['+82', '10', '6508', '1377']"
            ]
          },
          "metadata": {},
          "execution_count": 23
        }
      ]
    },
    {
      "cell_type": "code",
      "source": [
        "phone_number.split('-', maxsplit=2)"
      ],
      "metadata": {
        "colab": {
          "base_uri": "https://localhost:8080/"
        },
        "id": "yJ7mVySk2RJm",
        "outputId": "60cdd247-1ac5-416e-882b-2b70b3e0c2a1"
      },
      "execution_count": null,
      "outputs": [
        {
          "output_type": "execute_result",
          "data": {
            "text/plain": [
              "['+82', '10', '6508-1377']"
            ]
          },
          "metadata": {},
          "execution_count": 25
        }
      ]
    },
    {
      "cell_type": "markdown",
      "source": [
        "## strip() : 필요없는 문자열 삭제\n",
        "앞뒤 공백 혹은 개행문자와 같이 불필요한 부분 지우고싶을때 사용"
      ],
      "metadata": {
        "id": "-PzoKH8-22xi"
      }
    },
    {
      "cell_type": "code",
      "source": [
        "tempText = ' Python '\n",
        "tempText.strip()"
      ],
      "metadata": {
        "colab": {
          "base_uri": "https://localhost:8080/",
          "height": 35
        },
        "id": "Ftd8L-cp3mWf",
        "outputId": "93eecc07-21d3-45e4-c019-81feb2356a85"
      },
      "execution_count": null,
      "outputs": [
        {
          "output_type": "execute_result",
          "data": {
            "text/plain": [
              "'Python'"
            ],
            "application/vnd.google.colaboratory.intrinsic+json": {
              "type": "string"
            }
          },
          "metadata": {},
          "execution_count": 30
        }
      ]
    },
    {
      "cell_type": "code",
      "source": [
        "tempText = 'aaaPythonaaa'\n",
        "print (tempText.strip('a'))\n",
        "print (tempText[3:9])"
      ],
      "metadata": {
        "colab": {
          "base_uri": "https://localhost:8080/"
        },
        "id": "knUGPL_H35ye",
        "outputId": "e0eb12f8-0684-4e33-e53f-8bb13d697cf7"
      },
      "execution_count": null,
      "outputs": [
        {
          "output_type": "stream",
          "name": "stdout",
          "text": [
            "Python\n",
            "Python\n"
          ]
        }
      ]
    },
    {
      "cell_type": "code",
      "source": [
        "tempText = 'aaabbPythonbbaaa'\n",
        "print (tempText.strip('ab'))\n",
        "print (tempText[5:11])"
      ],
      "metadata": {
        "colab": {
          "base_uri": "https://localhost:8080/"
        },
        "id": "zkQLroJG4hJj",
        "outputId": "274df5e4-0786-4487-dc3e-cbdf3302eeda"
      },
      "execution_count": null,
      "outputs": [
        {
          "output_type": "stream",
          "name": "stdout",
          "text": [
            "Python\n",
            "Python\n"
          ]
        }
      ]
    },
    {
      "cell_type": "code",
      "source": [
        "tempText = 'aaabbPythonbbaaa'\n",
        "result = tempText.strip('a')\n",
        "result.strip('b')"
      ],
      "metadata": {
        "colab": {
          "base_uri": "https://localhost:8080/",
          "height": 35
        },
        "id": "8wig4PGo49Me",
        "outputId": "86888c35-eb09-47fb-bc29-24444fbd3772"
      },
      "execution_count": null,
      "outputs": [
        {
          "output_type": "execute_result",
          "data": {
            "text/plain": [
              "'Python'"
            ],
            "application/vnd.google.colaboratory.intrinsic+json": {
              "type": "string"
            }
          },
          "metadata": {},
          "execution_count": 50
        }
      ]
    },
    {
      "cell_type": "code",
      "source": [
        "tempText = '\\n Python \\n\\n'\n",
        "tempText.strip('\\n')"
      ],
      "metadata": {
        "colab": {
          "base_uri": "https://localhost:8080/",
          "height": 35
        },
        "id": "7Ctcb69k8-T2",
        "outputId": "414dad6f-e02a-4968-d310-ef7dd216e57c"
      },
      "execution_count": null,
      "outputs": [
        {
          "output_type": "execute_result",
          "data": {
            "text/plain": [
              "' Python '"
            ],
            "application/vnd.google.colaboratory.intrinsic+json": {
              "type": "string"
            }
          },
          "metadata": {},
          "execution_count": 54
        }
      ]
    },
    {
      "cell_type": "code",
      "source": [
        "tempText.strip(' \\n')\n",
        "\n",
        "#lstrip(), 해당 텍스트의 왼쪽\n",
        "#rstrip(), 해당 텍스트의 오른쪽"
      ],
      "metadata": {
        "colab": {
          "base_uri": "https://localhost:8080/",
          "height": 35
        },
        "id": "0WDvi4QF9cXl",
        "outputId": "a4f9e4c1-723e-4d7d-8d16-7461543b0451"
      },
      "execution_count": null,
      "outputs": [
        {
          "output_type": "execute_result",
          "data": {
            "text/plain": [
              "'Python'"
            ],
            "application/vnd.google.colaboratory.intrinsic+json": {
              "type": "string"
            }
          },
          "metadata": {},
          "execution_count": 56
        }
      ]
    },
    {
      "cell_type": "markdown",
      "source": [
        "## join():문자 연결"
      ],
      "metadata": {
        "id": "W4wRPlWQ98qR"
      }
    },
    {
      "cell_type": "code",
      "source": [
        "name1 = '철수'\n",
        "name2 = '영미'\n",
        "\n",
        "hello = '님, 주소와 전화번호를 입력해주세요'\n",
        "print((name1 + hello))\n",
        "a.join(name1+name2)"
      ],
      "metadata": {
        "colab": {
          "base_uri": "https://localhost:8080/",
          "height": 53
        },
        "id": "ylk0W266-OTj",
        "outputId": "85f801fe-2b33-4e05-9a83-b03bcdba3a61"
      },
      "execution_count": null,
      "outputs": [
        {
          "output_type": "stream",
          "name": "stdout",
          "text": [
            "철수님, 주소와 전화번호를 입력해주세요\n"
          ]
        },
        {
          "output_type": "execute_result",
          "data": {
            "text/plain": [
              "'철 수 영 미'"
            ],
            "application/vnd.google.colaboratory.intrinsic+json": {
              "type": "string"
            }
          },
          "metadata": {},
          "execution_count": 76
        }
      ]
    },
    {
      "cell_type": "code",
      "source": [
        "address_list = ['서울시', '서초구,' '반포대로', '201(반포동)']\n",
        "a = \" \"\n",
        "a.join(address_list)"
      ],
      "metadata": {
        "colab": {
          "base_uri": "https://localhost:8080/",
          "height": 35
        },
        "id": "GMCktFeT-zrN",
        "outputId": "2289b709-0291-4e2c-80bf-e6ed6bc9b540"
      },
      "execution_count": null,
      "outputs": [
        {
          "output_type": "execute_result",
          "data": {
            "text/plain": [
              "'서울시 서초구,반포대로 201(반포동)'"
            ],
            "application/vnd.google.colaboratory.intrinsic+json": {
              "type": "string"
            }
          },
          "metadata": {},
          "execution_count": 72
        }
      ]
    },
    {
      "cell_type": "markdown",
      "source": [
        "##find() : 문자열 찾기\n",
        "- 문자열의 위치 값을 반환한다"
      ],
      "metadata": {
        "id": "l81BHmiQAG9K"
      }
    },
    {
      "cell_type": "code",
      "source": [
        "str_f = 'Python code'\n",
        "print(\"찾는 문자열의 위치\", str_f.find('n'))\n",
        "print(\"찾는 문자열의 위치\", str_f.find('java')) # (-1)는 해당되는 문자 없음"
      ],
      "metadata": {
        "colab": {
          "base_uri": "https://localhost:8080/"
        },
        "id": "QItza_nYAvV6",
        "outputId": "4b27b813-6ace-468d-d9e4-dcb86df35f98"
      },
      "execution_count": null,
      "outputs": [
        {
          "output_type": "stream",
          "name": "stdout",
          "text": [
            "찾는 문자열의 위치 5\n",
            "찾는 문자열의 위치 -1\n"
          ]
        }
      ]
    },
    {
      "cell_type": "markdown",
      "source": [
        "## count() : 찾고자하는 문자열의 횟수를 반환\n",
        "- 만약 찾는 문자열이 없을경우 0으로 반"
      ],
      "metadata": {
        "id": "vKAsbtqDDHK1"
      }
    },
    {
      "cell_type": "code",
      "source": [
        "str_c = \"Python is powerful. Python is easy to learn. Python is open\"\n",
        "print(\"Python의 갯수는?\", str_c.count(\"Python\"))\n",
        "print(\"Python의 갯수는?\", str_c.count(\"powerful\"))\n",
        "print(\"Python의 갯수는?\", str_c.count(\"Java\"))"
      ],
      "metadata": {
        "colab": {
          "base_uri": "https://localhost:8080/"
        },
        "id": "vZ_-MFmXDcPV",
        "outputId": "7e2e0b5d-f51a-492a-e290-9ae4b75cb4f0"
      },
      "execution_count": null,
      "outputs": [
        {
          "output_type": "stream",
          "name": "stdout",
          "text": [
            "Python의 갯수는? 3\n",
            "Python의 갯수는? 1\n",
            "Python의 갯수는? 0\n"
          ]
        }
      ]
    },
    {
      "cell_type": "markdown",
      "source": [
        "## startswith, endswith\n",
        "-각 문자열이 지정된 문자로 시작 혹은 끝나는지 검사\n"
      ],
      "metadata": {
        "id": "EAxBew8tD8_4"
      }
    },
    {
      "cell_type": "code",
      "source": [
        "str_c = \"Python is powerful. Python is easy to learn. Python is open.\"\n",
        "print(\"Python으로 시작?\", str_c.startswith('Python'))\n",
        "print(\"Python으로 시작?\", str_c.startswith('is'))\n",
        "print(\"Python으로 시작?\", str_c.endswith('.'))\n",
        "print(\"Python으로 시작?\", str_c.endswith('!'))"
      ],
      "metadata": {
        "colab": {
          "base_uri": "https://localhost:8080/"
        },
        "id": "W-0YDu_LEN2h",
        "outputId": "599ef3f9-e049-4292-b130-6f291b35d474"
      },
      "execution_count": null,
      "outputs": [
        {
          "output_type": "stream",
          "name": "stdout",
          "text": [
            "Python으로 시작? True\n",
            "Python으로 시작? False\n",
            "Python으로 시작? True\n",
            "Python으로 시작? False\n"
          ]
        }
      ]
    },
    {
      "cell_type": "markdown",
      "source": [
        "## replace() : 문자열 바꾸기\n",
        "- 지정한 문자열은 찾아서 바꾸는 메서드"
      ],
      "metadata": {
        "id": "LqeC4VhDE5Pt"
      }
    },
    {
      "cell_type": "code",
      "source": [
        "str_a = 'Python is fast. Python is friendly. Python is open.'\n",
        "\n",
        "#Pythong -> iPython\n",
        "print(str_a.replace('Python', 'iPython'))"
      ],
      "metadata": {
        "colab": {
          "base_uri": "https://localhost:8080/"
        },
        "id": "l5co5SfPFBt5",
        "outputId": "1a2fcbc8-e366-4dcc-d0a8-1208e05072d2"
      },
      "execution_count": null,
      "outputs": [
        {
          "output_type": "stream",
          "name": "stdout",
          "text": [
            "iPython is fast. iPython is friendly. iPython is open.\n"
          ]
        }
      ]
    },
    {
      "cell_type": "code",
      "source": [
        "str_b = '[python][is][fast]'\n",
        "str_b1 = str_b.replace('[', '')\n",
        "str_b2 = str_b1.replace(']', ' ')\n",
        "result = str_b2.rstrip()\n",
        "print(result)"
      ],
      "metadata": {
        "colab": {
          "base_uri": "https://localhost:8080/"
        },
        "id": "crRnqiXIFm_a",
        "outputId": "673dce5e-80f2-4bdb-b33a-a4b800a90b75"
      },
      "execution_count": null,
      "outputs": [
        {
          "output_type": "stream",
          "name": "stdout",
          "text": [
            "python is fast\n"
          ]
        }
      ]
    },
    {
      "cell_type": "markdown",
      "source": [
        "#리스트 함수(p.54)"
      ],
      "metadata": {
        "id": "gh9UU3WexLmv"
      }
    },
    {
      "cell_type": "markdown",
      "source": [
        "##append()\n",
        "- 리스트에서 항목하나를 맨 마지막에 추가"
      ],
      "metadata": {
        "id": "parSIioUN6W0"
      }
    },
    {
      "cell_type": "code",
      "source": [
        "myFriends = ['James', 'Robert', 'Lisa', 'Mary']\n",
        "myFriends.append('Thomas')\n",
        "\n",
        "result = myFriends.append('Thomas')\n",
        "print(result)"
      ],
      "metadata": {
        "colab": {
          "base_uri": "https://localhost:8080/"
        },
        "id": "KNsx99WeOEbN",
        "outputId": "4c09a01a-db38-4d01-d606-6cc7c8819714"
      },
      "execution_count": null,
      "outputs": [
        {
          "output_type": "stream",
          "name": "stdout",
          "text": [
            "['James', 'Robert', 'Lisa', 'Mary', 'Thomas']\n",
            "None\n"
          ]
        }
      ]
    },
    {
      "cell_type": "code",
      "source": [
        "newFriends = ['a', 'b', 'c']\n",
        "myFriends.extend(newFriends)\n",
        "myFriends"
      ],
      "metadata": {
        "colab": {
          "base_uri": "https://localhost:8080/"
        },
        "id": "45LZHEjePZah",
        "outputId": "ec845daf-1089-4093-ca96-b7354c8cb1bc"
      },
      "execution_count": null,
      "outputs": [
        {
          "output_type": "execute_result",
          "data": {
            "text/plain": [
              "['James', 'Robert', 'Lisa', 'Mary', 'a', 'b', 'c']"
            ]
          },
          "metadata": {},
          "execution_count": 111
        }
      ]
    },
    {
      "cell_type": "markdown",
      "source": [
        "## insert ()\n",
        "-항목의 위치를 나타내는 인덱스 i 에data를 삽입\n",
        "\n"
      ],
      "metadata": {
        "id": "-cJ2qwZCS8IK"
      }
    },
    {
      "cell_type": "code",
      "source": [
        "myFriends = ['James', 'Robert', 'Lisa', 'Mary']\n",
        "myFriends.insert(1, 'evan')\n",
        "print(myFriends)"
      ],
      "metadata": {
        "colab": {
          "base_uri": "https://localhost:8080/"
        },
        "id": "7vfx98-mS7_P",
        "outputId": "0e7c688a-d3e9-4ff6-bdaf-3c3a42704552"
      },
      "execution_count": null,
      "outputs": [
        {
          "output_type": "stream",
          "name": "stdout",
          "text": [
            "['James', 'evan', 'Robert', 'Lisa', 'Mary']\n"
          ]
        }
      ]
    },
    {
      "cell_type": "code",
      "source": [
        "ex_list = [\"a\", \"b\", \"c\", \"d\",]\n",
        "ex_list.insert(0, \"e\")\n",
        "ex_list"
      ],
      "metadata": {
        "colab": {
          "base_uri": "https://localhost:8080/"
        },
        "id": "LfxGwbyvl8o8",
        "outputId": "47514031-f8c0-4dc1-fa62-b26ea415fe5b"
      },
      "execution_count": 141,
      "outputs": [
        {
          "output_type": "execute_result",
          "data": {
            "text/plain": [
              "['e', 'a', 'b', 'c', 'd']"
            ]
          },
          "metadata": {},
          "execution_count": 141
        }
      ]
    },
    {
      "cell_type": "markdown",
      "source": [
        "## 함수\n",
        "- 다른 개발자분들이 만들어 놓은 함수를 갖다 씀\n",
        "- 이번 시간에 해야하는것 : 우리가 함수를 만들자\n"
      ],
      "metadata": {
        "id": "LWQ3GRIjn6Xc"
      }
    },
    {
      "cell_type": "markdown",
      "source": [
        "#함수의 구조\n",
        "#매개변수, 인자 (p116)\n",
        "def 함수명(인자) ([인자1, 인자2, ......ㅇ인자n]):\n",
        "#  코드블록\n",
        "return반환값"
      ],
      "metadata": {
        "id": "3aphQDFDphm7"
      }
    },
    {
      "cell_type": "markdown",
      "source": [],
      "metadata": {
        "id": "m_FeLFyHTnyj"
      }
    },
    {
      "cell_type": "code",
      "source": [
        "def mySum(a, b):\n",
        "  c = a + b\n",
        "  return c\n",
        "\n",
        "a = 1\n",
        "b = 1\n",
        "\n",
        "result = mySum(a, b)\n",
        "print(result)"
      ],
      "metadata": {
        "colab": {
          "base_uri": "https://localhost:8080/"
        },
        "id": "oEr2Ca46qG7o",
        "outputId": "96a93b76-f3b4-4671-a513-2e61697d40d8"
      },
      "execution_count": 5,
      "outputs": [
        {
          "output_type": "stream",
          "name": "stdout",
          "text": [
            "2\n"
          ]
        }
      ]
    },
    {
      "cell_type": "markdown",
      "source": [
        "-뺼셈 함수\n"
      ],
      "metadata": {
        "id": "FOtiiO9yroSx"
      }
    },
    {
      "cell_type": "code",
      "source": [
        "def mySubtract(y, x) :\n",
        "  z = y - x\n",
        "  return z\n",
        "\n",
        "y = 2\n",
        "x = 2\n",
        "\n",
        "result = mySubtract(y, x)\n",
        "print(result)"
      ],
      "metadata": {
        "colab": {
          "base_uri": "https://localhost:8080/"
        },
        "id": "vXU-2hzGrw9G",
        "outputId": "b8033d61-dd28-4207-b640-5aa49a92fce8"
      },
      "execution_count": 18,
      "outputs": [
        {
          "output_type": "stream",
          "name": "stdout",
          "text": [
            "0\n"
          ]
        }
      ]
    },
    {
      "cell_type": "code",
      "source": [
        "m = 1\n",
        "\n",
        "result = mySubtract(m, b)\n",
        "print (result)"
      ],
      "metadata": {
        "colab": {
          "base_uri": "https://localhost:8080/"
        },
        "id": "U-UewGwhqlq7",
        "outputId": "2c286dc3-1ff7-401d-9e15-f45158db748d"
      },
      "execution_count": 10,
      "outputs": [
        {
          "output_type": "stream",
          "name": "stdout",
          "text": [
            "0\n"
          ]
        }
      ]
    },
    {
      "cell_type": "code",
      "source": [
        "def mySum(a, b):\n",
        "  c = a + b\n",
        "  return c\n",
        "\n",
        "m = 4\n",
        "result = mySubtract(m, b)\n",
        "print(result)"
      ],
      "metadata": {
        "colab": {
          "base_uri": "https://localhost:8080/"
        },
        "id": "-B-6NVf6uLiy",
        "outputId": "9a0bb0b2-8514-4b9c-82da-e2489a010e46"
      },
      "execution_count": 11,
      "outputs": [
        {
          "output_type": "stream",
          "name": "stdout",
          "text": [
            "3\n"
          ]
        }
      ]
    },
    {
      "cell_type": "code",
      "source": [
        "def my_func():\n",
        "  print(\"My first function\")\n",
        "  print(\"This is a function!\")"
      ],
      "metadata": {
        "id": "m1I-oXC8vO-m"
      },
      "execution_count": 21,
      "outputs": []
    },
    {
      "cell_type": "code",
      "source": [
        "my_func()"
      ],
      "metadata": {
        "colab": {
          "base_uri": "https://localhost:8080/"
        },
        "id": "eqhAOxFj0O2y",
        "outputId": "2f8e9d87-e779-4937-9f29-d5251e62784c"
      },
      "execution_count": 24,
      "outputs": [
        {
          "output_type": "stream",
          "name": "stdout",
          "text": [
            "My first function\n",
            "This is a function!\n"
          ]
        }
      ]
    },
    {
      "cell_type": "code",
      "source": [
        "def mySum(a, b = 0):\n",
        "  c = a + b\n",
        "  print(f'good{c}')\n",
        "\n",
        "\n",
        "a = 1\n",
        "result = mySum(a)\n",
        "print(result)"
      ],
      "metadata": {
        "colab": {
          "base_uri": "https://localhost:8080/"
        },
        "id": "8Y5dDen60bkI",
        "outputId": "052765fc-38ef-44a0-9ed4-eade7863e9d0"
      },
      "execution_count": 29,
      "outputs": [
        {
          "output_type": "stream",
          "name": "stdout",
          "text": [
            "good1\n",
            "None\n"
          ]
        }
      ]
    },
    {
      "cell_type": "markdown",
      "source": [
        "### 변수의 유효범위 (p121)\n",
        "- 지역 변수 & 전역 변수\n",
        "- Local / Global variable"
      ],
      "metadata": {
        "id": "sIo7eX_t2HAQ"
      }
    },
    {
      "cell_type": "code",
      "source": [
        "a= 5 # 전역변수\n",
        "\n",
        "def func1():\n",
        "  a = 1 #localvar\n",
        "  print(f'func1local a = {a}')\n",
        "\n",
        "def func2():\n",
        "  a = 4 #localvar\n",
        "  print(f'func1local a = {a}')\n",
        "\n",
        "def func3():\n",
        "  print(f'func3 global a = {a}')\n",
        "\n",
        "def func4():\n",
        "  global a\n",
        "  a = 500\n",
        "  print(f'func4 global a = {a}')\n",
        "\n",
        "func1()\n",
        "func2()\n",
        "func3()\n",
        "func4()\n",
        "print (f'전역 변수 a = {a}')\n",
        "func3()\n",
        "\n"
      ],
      "metadata": {
        "colab": {
          "base_uri": "https://localhost:8080/"
        },
        "id": "dNgTGUfL2YRd",
        "outputId": "21f4f812-8fe6-4697-bbd5-c89829417c11"
      },
      "execution_count": 43,
      "outputs": [
        {
          "output_type": "stream",
          "name": "stdout",
          "text": [
            "func1local a = 1\n",
            "func1local a = 4\n",
            "func3 global a = 5\n",
            "func4 global a = 500\n",
            "전역 변수 a = 500\n",
            "func3 global a = 500\n"
          ]
        }
      ]
    },
    {
      "cell_type": "code",
      "source": [],
      "metadata": {
        "id": "CTaLGa3s2paa"
      },
      "execution_count": null,
      "outputs": []
    },
    {
      "cell_type": "markdown",
      "source": [
        "### 람다 함수"
      ],
      "metadata": {
        "id": "Js_Z86bv6u_g"
      }
    },
    {
      "cell_type": "code",
      "source": [
        "mySquare = lambda x : x ** 2\n",
        "mySquare(5)"
      ],
      "metadata": {
        "colab": {
          "base_uri": "https://localhost:8080/"
        },
        "id": "Ofs8WyPj7JKK",
        "outputId": "ab441b86-97de-4123-f159-ad09d5e0b676"
      },
      "execution_count": 4,
      "outputs": [
        {
          "output_type": "execute_result",
          "data": {
            "text/plain": [
              "25"
            ]
          },
          "metadata": {},
          "execution_count": 4
        }
      ]
    },
    {
      "cell_type": "code",
      "source": [
        "(lambda 인자 (=매개변수) : 인자를 활용한 코드) (원하는 인자 코드 입력)"
      ],
      "metadata": {
        "colab": {
          "base_uri": "https://localhost:8080/",
          "height": 143
        },
        "id": "jdINdbdP7rHy",
        "outputId": "6d668491-5026-4ff3-e04b-e6f2b8711f64"
      },
      "execution_count": 3,
      "outputs": [
        {
          "output_type": "error",
          "ename": "SyntaxError",
          "evalue": "ignored",
          "traceback": [
            "\u001b[0;36m  File \u001b[0;32m\"<ipython-input-3-8266a8d0085d>\"\u001b[0;36m, line \u001b[0;32m1\u001b[0m\n\u001b[0;31m    (lambda 인자 (=매개변수) : 인자를 활용한 코드) (원하는 인자 코드 입력)\u001b[0m\n\u001b[0m               ^\u001b[0m\n\u001b[0;31mSyntaxError\u001b[0m\u001b[0;31m:\u001b[0m invalid syntax\n"
          ]
        }
      ]
    },
    {
      "cell_type": "code",
      "source": [
        "def myPower(x):\n",
        "  y = x ** 2\n",
        "  print(y)\n",
        "#  return y\n",
        "\n",
        "myPower(3)"
      ],
      "metadata": {
        "colab": {
          "base_uri": "https://localhost:8080/"
        },
        "id": "2UEl0qVL7PQQ",
        "outputId": "d146f222-3749-471f-d30a-8fefd0188597"
      },
      "execution_count": 3,
      "outputs": [
        {
          "output_type": "stream",
          "name": "stdout",
          "text": [
            "9\n"
          ]
        }
      ]
    },
    {
      "cell_type": "code",
      "source": [
        "## 클래스 선언과 객체 생성\n",
        "- 함수의 확장\n",
        "+함수 : 각 덧셈함수, 뺄셈함수 곰셈함수\n",
        "+클래스 : 사칙연산 클래스 (예: 계산기)\n",
        "+라이브러리 : 클래스들의 묶음\n"
      ],
      "metadata": {
        "id": "uK3qNNrZ8O4m"
      },
      "execution_count": null,
      "outputs": []
    },
    {
      "cell_type": "code",
      "source": [
        "# 자전거의 속성 : data\n",
        "# 자전거의 동작 : method (=function)"
      ],
      "metadata": {
        "id": "QLWLAGrGDkgh"
      },
      "execution_count": 4,
      "outputs": []
    },
    {
      "cell_type": "code",
      "source": [
        "class Bycycle():\n",
        "  data1 = wheelsize\n",
        "  data2 = framecolor\n",
        "\n",
        "\n",
        "def speed():\n",
        "  pass\n",
        "\n",
        "def direction():\n",
        "  pass\n",
        "\n",
        "def stop():\n",
        "  pass\n",
        "\n",
        "title = Bycycle(data1, data2)\n"
      ],
      "metadata": {
        "id": "9uhEyW2tEJ7r"
      },
      "execution_count": null,
      "outputs": []
    },
    {
      "cell_type": "code",
      "source": [
        "fruits = ['1', '2', '3', '3', '4', '5', '6', '7']\n",
        "#리스트에는 숫자 덧셈 뺄셈 X\n",
        "\n"
      ],
      "metadata": {
        "id": "wwE2OUwqGJUQ"
      },
      "execution_count": null,
      "outputs": []
    },
    {
      "cell_type": "code",
      "source": [
        "result1 = 0\n",
        "result2 = 0\n",
        "def add1(num):\n",
        "  global result1\n",
        "\n",
        "  result1 = result1 + num\n",
        "  return result1\n",
        "print(add(3))\n",
        "print(add(8))\n",
        "\n",
        "\n",
        "def add2(num):\n",
        "  global result2\n",
        "\n",
        "  result2 = result2 + num\n",
        "  return result2\n",
        "print(add(3))\n",
        "print(add(5))\n",
        "print(add2(3))\n",
        "print(add2(8))"
      ],
      "metadata": {
        "colab": {
          "base_uri": "https://localhost:8080/"
        },
        "id": "0WSvYj73JXbq",
        "outputId": "bdfec19d-3ce8-46bd-b01e-772e38f21a53"
      },
      "execution_count": 13,
      "outputs": [
        {
          "output_type": "stream",
          "name": "stdout",
          "text": [
            "46\n",
            "54\n",
            "57\n",
            "62\n",
            "3\n",
            "11\n"
          ]
        }
      ]
    },
    {
      "cell_type": "code",
      "source": [
        "result1 = 0\n",
        "result2 = 0\n",
        "\n",
        "def add1(num):\n",
        "  global result1\n",
        "\n",
        "  result1 = result1 + num # 결괏값(result)에 입력값(num) 더하기\n",
        "  return result1\n",
        "  print(add(3))\n",
        "  print(add(8))\n",
        "\n",
        "def add2(num):\n",
        "  global result2\n",
        "\n",
        "  result2 = result2 + num # 결괏값(result)에 입력값(num) 더하기\n",
        "  return result2\n",
        "\n",
        "\n",
        "print(add1(3))\n",
        "print(add1(5))\n",
        "print(add2(3))\n",
        "print(add2(8))"
      ],
      "metadata": {
        "colab": {
          "base_uri": "https://localhost:8080/"
        },
        "id": "jf8fV8BZKhSZ",
        "outputId": "49e8960a-2195-4336-b4fd-58aab2b9f0c2"
      },
      "execution_count": 15,
      "outputs": [
        {
          "output_type": "stream",
          "name": "stdout",
          "text": [
            "3\n",
            "8\n",
            "3\n",
            "11\n"
          ]
        }
      ]
    },
    {
      "cell_type": "code",
      "source": [
        "class calculator:\n",
        "\n",
        "  def __init__(self):\n",
        "    self.result = 0  #result reset\n",
        "\n",
        "  #class method\n",
        "  def add(self, num):\n",
        "    self.result = self.result + num\n",
        "    return self.result\n",
        "\n",
        "cal1 = calculator()\n",
        "cal2 = calculator()\n",
        "cal3 = calculator()\n",
        "\n",
        "print(cal1.add(3))\n",
        "print(cal1.add(5))\n",
        "print(cal2.add(1))\n",
        "print(cal2.add(2))\n",
        "print(cal3.add(100))"
      ],
      "metadata": {
        "colab": {
          "base_uri": "https://localhost:8080/"
        },
        "id": "2wNXZHZwPLXC",
        "outputId": "d32d9ab2-9d10-489a-e897-f211a6d01576"
      },
      "execution_count": 27,
      "outputs": [
        {
          "output_type": "stream",
          "name": "stdout",
          "text": [
            "3\n",
            "8\n",
            "1\n",
            "3\n",
            "100\n"
          ]
        }
      ]
    },
    {
      "cell_type": "markdown",
      "source": [
        "### 객체 초기화\n",
        "- `__init__()` : 객체생성과 동시에 속성값을 지정할 수 있다\n",
        " - 주로 클래스선언시 변수 초기화"
      ],
      "metadata": {
        "id": "DkPfUEn4GJG-"
      }
    },
    {
      "cell_type": "code",
      "source": [
        "class Bicycle():\n",
        "  def__init__(self, wheel_size, color):\n",
        "    self.wheel_size = wheel_size\n",
        "    self.color = color\n",
        "  def stop(self):\n",
        "    print('Bicycle"
      ],
      "metadata": {
        "id": "N0Z8_ze4Vain"
      },
      "execution_count": null,
      "outputs": []
    },
    {
      "cell_type": "code",
      "source": [
        "class Bicycle():\n",
        "\n",
        "  # 변수 초기화\n",
        "  def __init__(self, wheel_size, color):\n",
        "    self.wheel_size = wheel_size\n",
        "    self.color = color\n",
        "\n",
        "  def stop(self):\n",
        "    print('자전거({0}, {1}) : 정지'.format(self.wheel_size, self.color))"
      ],
      "metadata": {
        "id": "MXukne2WV_hy"
      },
      "execution_count": 29,
      "outputs": []
    },
    {
      "cell_type": "code",
      "source": [
        "my_Bicycle = Bicycle(26, 'black')\n",
        "your_Bicycle =Bicycle(30, 'pink')\n",
        "\n",
        "my_Bicycle.stop()\n",
        "your_Bicycle.stop()"
      ],
      "metadata": {
        "colab": {
          "base_uri": "https://localhost:8080/"
        },
        "id": "h_cLaQEQWIkJ",
        "outputId": "2b634eae-e32e-4d84-bd77-7f8a86bef13b"
      },
      "execution_count": 35,
      "outputs": [
        {
          "output_type": "stream",
          "name": "stdout",
          "text": [
            "자전거(26, black) : 정지\n",
            "자전거(30, pink) : 정지\n"
          ]
        }
      ]
    },
    {
      "cell_type": "markdown",
      "source": [],
      "metadata": {
        "id": "8I3BNu0vXxiA"
      }
    },
    {
      "cell_type": "code",
      "source": [],
      "metadata": {
        "id": "l2Nj36o4XxaF"
      },
      "execution_count": null,
      "outputs": []
    }
  ]
}